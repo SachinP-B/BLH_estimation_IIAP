{
 "cells": [
  {
   "cell_type": "code",
   "execution_count": 295,
   "metadata": {},
   "outputs": [],
   "source": [
    "import numpy as np\n",
    "import pandas as pd\n",
    "from datetime import datetime\n",
    "from matplotlib import pyplot as plt\n",
    "from datetime import timedelta\n",
    "plt.rcParams['font.family']='Arial'\n",
    "plt.rcParams['font.size']=13"
   ]
  },
  {
   "cell_type": "code",
   "execution_count": 2,
   "metadata": {},
   "outputs": [],
   "source": [
    "#nighttime seeing with era5"
   ]
  },
  {
   "cell_type": "code",
   "execution_count": 17,
   "metadata": {},
   "outputs": [],
   "source": [
    "seeing_night_hanle = pd.read_csv('../Project Data/seeing-hanle-2k11-2k13.dat', sep = '\\s+')"
   ]
  },
  {
   "cell_type": "code",
   "execution_count": 16,
   "metadata": {
    "collapsed": true
   },
   "outputs": [
    {
     "ename": "NameError",
     "evalue": "name 'era5_nighttime' is not defined",
     "output_type": "error",
     "traceback": [
      "\u001b[1;31m---------------------------------------------------------------------------\u001b[0m",
      "\u001b[1;31mNameError\u001b[0m                                 Traceback (most recent call last)",
      "\u001b[1;32m<ipython-input-16-405acd5e1cf6>\u001b[0m in \u001b[0;36m<module>\u001b[1;34m\u001b[0m\n\u001b[0;32m      1\u001b[0m \u001b[1;31m#era5_nighttime = pd.read_csv('../Output Data/era5_nighttime.txt',sep='\\t',parse_dates=['date'])\u001b[0m\u001b[1;33m\u001b[0m\u001b[1;33m\u001b[0m\u001b[1;33m\u001b[0m\u001b[0m\n\u001b[0;32m      2\u001b[0m \u001b[1;33m\u001b[0m\u001b[0m\n\u001b[1;32m----> 3\u001b[1;33m \u001b[0mera5_nighttime\u001b[0m\u001b[1;33m.\u001b[0m\u001b[0mhead\u001b[0m\u001b[1;33m(\u001b[0m\u001b[1;36m5\u001b[0m\u001b[1;33m)\u001b[0m\u001b[1;33m\u001b[0m\u001b[1;33m\u001b[0m\u001b[0m\n\u001b[0m\u001b[0;32m      4\u001b[0m \u001b[1;33m\u001b[0m\u001b[0m\n\u001b[0;32m      5\u001b[0m \u001b[0mera5_nighttime\u001b[0m\u001b[1;33m[\u001b[0m\u001b[1;34m'date'\u001b[0m\u001b[1;33m]\u001b[0m \u001b[1;33m=\u001b[0m \u001b[0mera5_nighttime\u001b[0m\u001b[1;33m[\u001b[0m\u001b[1;34m'date'\u001b[0m\u001b[1;33m]\u001b[0m\u001b[1;33m.\u001b[0m\u001b[0mapply\u001b[0m\u001b[1;33m(\u001b[0m\u001b[1;32mlambda\u001b[0m \u001b[0mx\u001b[0m\u001b[1;33m:\u001b[0m\u001b[0mx\u001b[0m\u001b[1;33m.\u001b[0m\u001b[0mdate\u001b[0m\u001b[1;33m(\u001b[0m\u001b[1;33m)\u001b[0m\u001b[1;33m)\u001b[0m\u001b[1;33m\u001b[0m\u001b[1;33m\u001b[0m\u001b[0m\n",
      "\u001b[1;31mNameError\u001b[0m: name 'era5_nighttime' is not defined"
     ]
    }
   ],
   "source": [
    "#era5_nighttime = pd.read_csv('../Output Data/era5_nighttime.txt',sep='\\t',parse_dates=['date'])\n",
    "\n",
    "era5_nighttime.head(5)\n",
    "\n",
    "era5_nighttime['date'] = era5_nighttime['date'].apply(lambda x:x.date())"
   ]
  },
  {
   "cell_type": "code",
   "execution_count": 18,
   "metadata": {},
   "outputs": [],
   "source": [
    "#since we are giving multiple columns in apply. we have to specify axis\n",
    "seeing_night_hanle['date']=seeing_night_hanle[['YYYY','MM','DD']].apply(lambda x: datetime(x[0],x[1],x[2]).date(),axis=1)"
   ]
  },
  {
   "cell_type": "code",
   "execution_count": 19,
   "metadata": {
    "collapsed": true
   },
   "outputs": [
    {
     "ename": "NameError",
     "evalue": "name 'era5_nighttime' is not defined",
     "output_type": "error",
     "traceback": [
      "\u001b[1;31m---------------------------------------------------------------------------\u001b[0m",
      "\u001b[1;31mNameError\u001b[0m                                 Traceback (most recent call last)",
      "\u001b[1;32m<ipython-input-19-871fd47daf1e>\u001b[0m in \u001b[0;36m<module>\u001b[1;34m\u001b[0m\n\u001b[1;32m----> 1\u001b[1;33m \u001b[0mmerged_see_nighttime\u001b[0m \u001b[1;33m=\u001b[0m \u001b[0mpd\u001b[0m\u001b[1;33m.\u001b[0m\u001b[0mmerge\u001b[0m\u001b[1;33m(\u001b[0m\u001b[0mseeing_night_hanle\u001b[0m\u001b[1;33m,\u001b[0m\u001b[0mera5_nighttime\u001b[0m\u001b[1;33m,\u001b[0m\u001b[0mhow\u001b[0m\u001b[1;33m=\u001b[0m\u001b[1;34m'left'\u001b[0m\u001b[1;33m,\u001b[0m\u001b[0mleft_on\u001b[0m\u001b[1;33m=\u001b[0m\u001b[1;33m[\u001b[0m\u001b[1;34m'date'\u001b[0m\u001b[1;33m]\u001b[0m\u001b[1;33m,\u001b[0m\u001b[0mright_on\u001b[0m\u001b[1;33m=\u001b[0m\u001b[1;33m[\u001b[0m\u001b[1;34m'date'\u001b[0m\u001b[1;33m]\u001b[0m\u001b[1;33m)\u001b[0m\u001b[1;33m\u001b[0m\u001b[1;33m\u001b[0m\u001b[0m\n\u001b[0m",
      "\u001b[1;31mNameError\u001b[0m: name 'era5_nighttime' is not defined"
     ]
    }
   ],
   "source": [
    "merged_see_nighttime = pd.merge(seeing_night_hanle,era5_nighttime,how='left',left_on=['date'],right_on=['date'])"
   ]
  },
  {
   "cell_type": "code",
   "execution_count": 279,
   "metadata": {},
   "outputs": [
    {
     "ename": "NameError",
     "evalue": "name 'merged_see_nighttime' is not defined",
     "output_type": "error",
     "traceback": [
      "\u001b[1;31m---------------------------------------------------------------------------\u001b[0m",
      "\u001b[1;31mNameError\u001b[0m                                 Traceback (most recent call last)",
      "\u001b[1;32m<ipython-input-279-e660f1b9dcd7>\u001b[0m in \u001b[0;36m<module>\u001b[1;34m\u001b[0m\n\u001b[0;32m      1\u001b[0m \u001b[0mplt\u001b[0m\u001b[1;33m.\u001b[0m\u001b[0mfigure\u001b[0m\u001b[1;33m(\u001b[0m\u001b[0mfigsize\u001b[0m\u001b[1;33m=\u001b[0m\u001b[1;33m(\u001b[0m\u001b[1;36m10\u001b[0m\u001b[1;33m,\u001b[0m\u001b[1;36m10\u001b[0m\u001b[1;33m)\u001b[0m\u001b[1;33m)\u001b[0m\u001b[1;33m\u001b[0m\u001b[1;33m\u001b[0m\u001b[0m\n\u001b[0;32m      2\u001b[0m \u001b[0mplt\u001b[0m\u001b[1;33m.\u001b[0m\u001b[0mrcParams\u001b[0m\u001b[1;33m[\u001b[0m\u001b[1;34m'font.family'\u001b[0m\u001b[1;33m]\u001b[0m\u001b[1;33m=\u001b[0m\u001b[1;34m'tahoma'\u001b[0m\u001b[1;33m\u001b[0m\u001b[1;33m\u001b[0m\u001b[0m\n\u001b[1;32m----> 3\u001b[1;33m \u001b[0mplt\u001b[0m\u001b[1;33m.\u001b[0m\u001b[0mscatter\u001b[0m\u001b[1;33m(\u001b[0m\u001b[0mmerged_see_nighttime\u001b[0m\u001b[1;33m[\u001b[0m\u001b[1;34m'See2'\u001b[0m\u001b[1;33m]\u001b[0m\u001b[1;33m,\u001b[0m\u001b[0mmerged_see_nighttime\u001b[0m\u001b[1;33m[\u001b[0m\u001b[1;34m'hanle_pblh_era5_avg'\u001b[0m\u001b[1;33m]\u001b[0m\u001b[1;33m)\u001b[0m\u001b[1;33m\u001b[0m\u001b[1;33m\u001b[0m\u001b[0m\n\u001b[0m\u001b[0;32m      4\u001b[0m \u001b[0mplt\u001b[0m\u001b[1;33m.\u001b[0m\u001b[0msuptitle\u001b[0m\u001b[1;33m(\u001b[0m\u001b[1;34m'Night seeing era5 daily avg'\u001b[0m\u001b[1;33m)\u001b[0m\u001b[1;33m\u001b[0m\u001b[1;33m\u001b[0m\u001b[0m\n\u001b[0;32m      5\u001b[0m \u001b[0mplt\u001b[0m\u001b[1;33m.\u001b[0m\u001b[0mylabel\u001b[0m\u001b[1;33m(\u001b[0m\u001b[1;34m'PBLH nighttime avg'\u001b[0m\u001b[1;33m)\u001b[0m\u001b[1;33m\u001b[0m\u001b[1;33m\u001b[0m\u001b[0m\n",
      "\u001b[1;31mNameError\u001b[0m: name 'merged_see_nighttime' is not defined"
     ]
    },
    {
     "data": {
      "text/plain": [
       "<Figure size 720x720 with 0 Axes>"
      ]
     },
     "metadata": {},
     "output_type": "display_data"
    }
   ],
   "source": [
    "plt.figure(figsize=(10,10))\n",
    "\n",
    "plt.scatter(merged_see_nighttime['See2'],merged_see_nighttime['hanle_pblh_era5_avg'])\n",
    "plt.suptitle('Night seeing era5 daily avg')\n",
    "plt.ylabel('PBLH nighttime avg')\n",
    "plt.xlabel('Seeing nighttime avg')\n",
    "plt.show()"
   ]
  },
  {
   "cell_type": "code",
   "execution_count": 10,
   "metadata": {
    "collapsed": true
   },
   "outputs": [
    {
     "data": {
      "text/html": [
       "<div>\n",
       "<style scoped>\n",
       "    .dataframe tbody tr th:only-of-type {\n",
       "        vertical-align: middle;\n",
       "    }\n",
       "\n",
       "    .dataframe tbody tr th {\n",
       "        vertical-align: top;\n",
       "    }\n",
       "\n",
       "    .dataframe thead th {\n",
       "        text-align: right;\n",
       "    }\n",
       "</style>\n",
       "<table border=\"1\" class=\"dataframe\">\n",
       "  <thead>\n",
       "    <tr style=\"text-align: right;\">\n",
       "      <th></th>\n",
       "      <th>YYYY</th>\n",
       "      <th>MM</th>\n",
       "      <th>DD</th>\n",
       "      <th>PT</th>\n",
       "      <th>See1</th>\n",
       "      <th>See2</th>\n",
       "      <th>std</th>\n",
       "      <th>hanle_pblh_era5_avg</th>\n",
       "      <th>merak_pblh_era5_avg</th>\n",
       "      <th>hanle_pblh_era5_median</th>\n",
       "      <th>merak_pblh_era5_median</th>\n",
       "    </tr>\n",
       "  </thead>\n",
       "  <tbody>\n",
       "    <tr>\n",
       "      <th>YYYY</th>\n",
       "      <td>1.000000</td>\n",
       "      <td>-0.671988</td>\n",
       "      <td>-0.072629</td>\n",
       "      <td>-0.030236</td>\n",
       "      <td>0.099906</td>\n",
       "      <td>0.104251</td>\n",
       "      <td>0.101638</td>\n",
       "      <td>-0.304718</td>\n",
       "      <td>-0.304718</td>\n",
       "      <td>-0.259579</td>\n",
       "      <td>-0.259579</td>\n",
       "    </tr>\n",
       "    <tr>\n",
       "      <th>MM</th>\n",
       "      <td>-0.671988</td>\n",
       "      <td>1.000000</td>\n",
       "      <td>0.022274</td>\n",
       "      <td>-0.063775</td>\n",
       "      <td>-0.162266</td>\n",
       "      <td>-0.154900</td>\n",
       "      <td>-0.147165</td>\n",
       "      <td>0.356241</td>\n",
       "      <td>0.356241</td>\n",
       "      <td>0.178601</td>\n",
       "      <td>0.178601</td>\n",
       "    </tr>\n",
       "    <tr>\n",
       "      <th>DD</th>\n",
       "      <td>-0.072629</td>\n",
       "      <td>0.022274</td>\n",
       "      <td>1.000000</td>\n",
       "      <td>-0.010078</td>\n",
       "      <td>0.102688</td>\n",
       "      <td>0.096366</td>\n",
       "      <td>0.078179</td>\n",
       "      <td>-0.043198</td>\n",
       "      <td>-0.043198</td>\n",
       "      <td>-0.038161</td>\n",
       "      <td>-0.038161</td>\n",
       "    </tr>\n",
       "    <tr>\n",
       "      <th>PT</th>\n",
       "      <td>-0.030236</td>\n",
       "      <td>-0.063775</td>\n",
       "      <td>-0.010078</td>\n",
       "      <td>1.000000</td>\n",
       "      <td>-0.191973</td>\n",
       "      <td>-0.205534</td>\n",
       "      <td>0.275790</td>\n",
       "      <td>-0.091046</td>\n",
       "      <td>-0.091046</td>\n",
       "      <td>-0.168016</td>\n",
       "      <td>-0.168016</td>\n",
       "    </tr>\n",
       "    <tr>\n",
       "      <th>See1</th>\n",
       "      <td>0.099906</td>\n",
       "      <td>-0.162266</td>\n",
       "      <td>0.102688</td>\n",
       "      <td>-0.191973</td>\n",
       "      <td>1.000000</td>\n",
       "      <td>0.996050</td>\n",
       "      <td>0.380001</td>\n",
       "      <td>-0.076880</td>\n",
       "      <td>-0.076880</td>\n",
       "      <td>0.200733</td>\n",
       "      <td>0.200733</td>\n",
       "    </tr>\n",
       "    <tr>\n",
       "      <th>See2</th>\n",
       "      <td>0.104251</td>\n",
       "      <td>-0.154900</td>\n",
       "      <td>0.096366</td>\n",
       "      <td>-0.205534</td>\n",
       "      <td>0.996050</td>\n",
       "      <td>1.000000</td>\n",
       "      <td>0.365228</td>\n",
       "      <td>-0.085440</td>\n",
       "      <td>-0.085440</td>\n",
       "      <td>0.190238</td>\n",
       "      <td>0.190238</td>\n",
       "    </tr>\n",
       "    <tr>\n",
       "      <th>std</th>\n",
       "      <td>0.101638</td>\n",
       "      <td>-0.147165</td>\n",
       "      <td>0.078179</td>\n",
       "      <td>0.275790</td>\n",
       "      <td>0.380001</td>\n",
       "      <td>0.365228</td>\n",
       "      <td>1.000000</td>\n",
       "      <td>-0.120064</td>\n",
       "      <td>-0.120064</td>\n",
       "      <td>-0.023256</td>\n",
       "      <td>-0.023256</td>\n",
       "    </tr>\n",
       "    <tr>\n",
       "      <th>hanle_pblh_era5_avg</th>\n",
       "      <td>-0.304718</td>\n",
       "      <td>0.356241</td>\n",
       "      <td>-0.043198</td>\n",
       "      <td>-0.091046</td>\n",
       "      <td>-0.076880</td>\n",
       "      <td>-0.085440</td>\n",
       "      <td>-0.120064</td>\n",
       "      <td>1.000000</td>\n",
       "      <td>1.000000</td>\n",
       "      <td>0.731566</td>\n",
       "      <td>0.731566</td>\n",
       "    </tr>\n",
       "    <tr>\n",
       "      <th>merak_pblh_era5_avg</th>\n",
       "      <td>-0.304718</td>\n",
       "      <td>0.356241</td>\n",
       "      <td>-0.043198</td>\n",
       "      <td>-0.091046</td>\n",
       "      <td>-0.076880</td>\n",
       "      <td>-0.085440</td>\n",
       "      <td>-0.120064</td>\n",
       "      <td>1.000000</td>\n",
       "      <td>1.000000</td>\n",
       "      <td>0.731566</td>\n",
       "      <td>0.731566</td>\n",
       "    </tr>\n",
       "    <tr>\n",
       "      <th>hanle_pblh_era5_median</th>\n",
       "      <td>-0.259579</td>\n",
       "      <td>0.178601</td>\n",
       "      <td>-0.038161</td>\n",
       "      <td>-0.168016</td>\n",
       "      <td>0.200733</td>\n",
       "      <td>0.190238</td>\n",
       "      <td>-0.023256</td>\n",
       "      <td>0.731566</td>\n",
       "      <td>0.731566</td>\n",
       "      <td>1.000000</td>\n",
       "      <td>1.000000</td>\n",
       "    </tr>\n",
       "    <tr>\n",
       "      <th>merak_pblh_era5_median</th>\n",
       "      <td>-0.259579</td>\n",
       "      <td>0.178601</td>\n",
       "      <td>-0.038161</td>\n",
       "      <td>-0.168016</td>\n",
       "      <td>0.200733</td>\n",
       "      <td>0.190238</td>\n",
       "      <td>-0.023256</td>\n",
       "      <td>0.731566</td>\n",
       "      <td>0.731566</td>\n",
       "      <td>1.000000</td>\n",
       "      <td>1.000000</td>\n",
       "    </tr>\n",
       "  </tbody>\n",
       "</table>\n",
       "</div>"
      ],
      "text/plain": [
       "                            YYYY        MM        DD        PT      See1  \\\n",
       "YYYY                    1.000000 -0.671988 -0.072629 -0.030236  0.099906   \n",
       "MM                     -0.671988  1.000000  0.022274 -0.063775 -0.162266   \n",
       "DD                     -0.072629  0.022274  1.000000 -0.010078  0.102688   \n",
       "PT                     -0.030236 -0.063775 -0.010078  1.000000 -0.191973   \n",
       "See1                    0.099906 -0.162266  0.102688 -0.191973  1.000000   \n",
       "See2                    0.104251 -0.154900  0.096366 -0.205534  0.996050   \n",
       "std                     0.101638 -0.147165  0.078179  0.275790  0.380001   \n",
       "hanle_pblh_era5_avg    -0.304718  0.356241 -0.043198 -0.091046 -0.076880   \n",
       "merak_pblh_era5_avg    -0.304718  0.356241 -0.043198 -0.091046 -0.076880   \n",
       "hanle_pblh_era5_median -0.259579  0.178601 -0.038161 -0.168016  0.200733   \n",
       "merak_pblh_era5_median -0.259579  0.178601 -0.038161 -0.168016  0.200733   \n",
       "\n",
       "                            See2       std  hanle_pblh_era5_avg  \\\n",
       "YYYY                    0.104251  0.101638            -0.304718   \n",
       "MM                     -0.154900 -0.147165             0.356241   \n",
       "DD                      0.096366  0.078179            -0.043198   \n",
       "PT                     -0.205534  0.275790            -0.091046   \n",
       "See1                    0.996050  0.380001            -0.076880   \n",
       "See2                    1.000000  0.365228            -0.085440   \n",
       "std                     0.365228  1.000000            -0.120064   \n",
       "hanle_pblh_era5_avg    -0.085440 -0.120064             1.000000   \n",
       "merak_pblh_era5_avg    -0.085440 -0.120064             1.000000   \n",
       "hanle_pblh_era5_median  0.190238 -0.023256             0.731566   \n",
       "merak_pblh_era5_median  0.190238 -0.023256             0.731566   \n",
       "\n",
       "                        merak_pblh_era5_avg  hanle_pblh_era5_median  \\\n",
       "YYYY                              -0.304718               -0.259579   \n",
       "MM                                 0.356241                0.178601   \n",
       "DD                                -0.043198               -0.038161   \n",
       "PT                                -0.091046               -0.168016   \n",
       "See1                              -0.076880                0.200733   \n",
       "See2                              -0.085440                0.190238   \n",
       "std                               -0.120064               -0.023256   \n",
       "hanle_pblh_era5_avg                1.000000                0.731566   \n",
       "merak_pblh_era5_avg                1.000000                0.731566   \n",
       "hanle_pblh_era5_median             0.731566                1.000000   \n",
       "merak_pblh_era5_median             0.731566                1.000000   \n",
       "\n",
       "                        merak_pblh_era5_median  \n",
       "YYYY                                 -0.259579  \n",
       "MM                                    0.178601  \n",
       "DD                                   -0.038161  \n",
       "PT                                   -0.168016  \n",
       "See1                                  0.200733  \n",
       "See2                                  0.190238  \n",
       "std                                  -0.023256  \n",
       "hanle_pblh_era5_avg                   0.731566  \n",
       "merak_pblh_era5_avg                   0.731566  \n",
       "hanle_pblh_era5_median                1.000000  \n",
       "merak_pblh_era5_median                1.000000  "
      ]
     },
     "execution_count": 10,
     "metadata": {},
     "output_type": "execute_result"
    }
   ],
   "source": [
    "merged_see_nighttime.corr()"
   ]
  },
  {
   "cell_type": "code",
   "execution_count": 11,
   "metadata": {},
   "outputs": [],
   "source": [
    "#nighttime and pblh merra"
   ]
  },
  {
   "cell_type": "code",
   "execution_count": 20,
   "metadata": {},
   "outputs": [],
   "source": [
    "merr_nighttime = pd.read_csv('../Output Data/merra_nighttime.txt',sep='\\t',parse_dates=['date'])"
   ]
  },
  {
   "cell_type": "code",
   "execution_count": 21,
   "metadata": {},
   "outputs": [],
   "source": [
    "merr_nighttime['date'] = merr_nighttime['date'].apply(lambda x:x.date())"
   ]
  },
  {
   "cell_type": "code",
   "execution_count": 22,
   "metadata": {},
   "outputs": [],
   "source": [
    "merged_nighttime_merr = pd.merge(seeing_night_hanle,merr_nighttime,how='left',left_on=['date'],right_on=['date'])"
   ]
  },
  {
   "cell_type": "code",
   "execution_count": 222,
   "metadata": {},
   "outputs": [],
   "source": [
    "ex_merged_nighttime_merr_hanle = merged_nighttime_merr[['date','PT','See1','See2','han_pblh_avg','han_pblh_median']]"
   ]
  },
  {
   "cell_type": "code",
   "execution_count": 225,
   "metadata": {},
   "outputs": [],
   "source": [
    "ex_merged_nighttime_merr_hanle.columns = ['Date','PT','Seeing_avg','Seeing_median','hanle_pblh_avg','hanle_pblh_median']"
   ]
  },
  {
   "cell_type": "code",
   "execution_count": 230,
   "metadata": {},
   "outputs": [],
   "source": [
    "ex_merged_nighttime_merr_hanle = ex_merged_nighttime_merr_hanle.round(decimals = 3)"
   ]
  },
  {
   "cell_type": "code",
   "execution_count": 231,
   "metadata": {},
   "outputs": [],
   "source": [
    "ex_merged_nighttime_merr_hanle.to_csv('../Output Data/Hanle_nightseeing_pblh_merra.txt',sep='\\t',index=False)"
   ]
  },
  {
   "cell_type": "code",
   "execution_count": 24,
   "metadata": {},
   "outputs": [],
   "source": [
    "merged_nighttime_merra_monthly = merged_nighttime_merr.groupby(['YYYY','MM']).median()"
   ]
  },
  {
   "cell_type": "code",
   "execution_count": 242,
   "metadata": {},
   "outputs": [
    {
     "data": {
      "text/html": [
       "<div>\n",
       "<style scoped>\n",
       "    .dataframe tbody tr th:only-of-type {\n",
       "        vertical-align: middle;\n",
       "    }\n",
       "\n",
       "    .dataframe tbody tr th {\n",
       "        vertical-align: top;\n",
       "    }\n",
       "\n",
       "    .dataframe thead th {\n",
       "        text-align: right;\n",
       "    }\n",
       "</style>\n",
       "<table border=\"1\" class=\"dataframe\">\n",
       "  <thead>\n",
       "    <tr style=\"text-align: right;\">\n",
       "      <th></th>\n",
       "      <th>DD</th>\n",
       "      <th>PT</th>\n",
       "      <th>See1</th>\n",
       "      <th>See2</th>\n",
       "      <th>std</th>\n",
       "      <th>han_pblh_avg</th>\n",
       "      <th>mer_pblh_avg</th>\n",
       "      <th>han_pblh_median</th>\n",
       "      <th>mer_pblh_median</th>\n",
       "    </tr>\n",
       "  </thead>\n",
       "  <tbody>\n",
       "    <tr>\n",
       "      <th>DD</th>\n",
       "      <td>1.000000</td>\n",
       "      <td>0.206196</td>\n",
       "      <td>0.002811</td>\n",
       "      <td>-0.020466</td>\n",
       "      <td>0.280524</td>\n",
       "      <td>-0.122983</td>\n",
       "      <td>-0.143724</td>\n",
       "      <td>-0.147091</td>\n",
       "      <td>-0.132196</td>\n",
       "    </tr>\n",
       "    <tr>\n",
       "      <th>PT</th>\n",
       "      <td>0.206196</td>\n",
       "      <td>1.000000</td>\n",
       "      <td>-0.456127</td>\n",
       "      <td>-0.440416</td>\n",
       "      <td>-0.112226</td>\n",
       "      <td>-0.134898</td>\n",
       "      <td>-0.256806</td>\n",
       "      <td>-0.172274</td>\n",
       "      <td>-0.354302</td>\n",
       "    </tr>\n",
       "    <tr>\n",
       "      <th>See1</th>\n",
       "      <td>0.002811</td>\n",
       "      <td>-0.456127</td>\n",
       "      <td>1.000000</td>\n",
       "      <td>0.997169</td>\n",
       "      <td>0.317942</td>\n",
       "      <td>-0.465376</td>\n",
       "      <td>-0.246273</td>\n",
       "      <td>-0.457124</td>\n",
       "      <td>0.101094</td>\n",
       "    </tr>\n",
       "    <tr>\n",
       "      <th>See2</th>\n",
       "      <td>-0.020466</td>\n",
       "      <td>-0.440416</td>\n",
       "      <td>0.997169</td>\n",
       "      <td>1.000000</td>\n",
       "      <td>0.279887</td>\n",
       "      <td>-0.497896</td>\n",
       "      <td>-0.270216</td>\n",
       "      <td>-0.485083</td>\n",
       "      <td>0.087912</td>\n",
       "    </tr>\n",
       "    <tr>\n",
       "      <th>std</th>\n",
       "      <td>0.280524</td>\n",
       "      <td>-0.112226</td>\n",
       "      <td>0.317942</td>\n",
       "      <td>0.279887</td>\n",
       "      <td>1.000000</td>\n",
       "      <td>-0.208061</td>\n",
       "      <td>-0.250004</td>\n",
       "      <td>-0.140570</td>\n",
       "      <td>-0.235310</td>\n",
       "    </tr>\n",
       "    <tr>\n",
       "      <th>han_pblh_avg</th>\n",
       "      <td>-0.122983</td>\n",
       "      <td>-0.134898</td>\n",
       "      <td>-0.465376</td>\n",
       "      <td>-0.497896</td>\n",
       "      <td>-0.208061</td>\n",
       "      <td>1.000000</td>\n",
       "      <td>0.770257</td>\n",
       "      <td>0.912221</td>\n",
       "      <td>0.456922</td>\n",
       "    </tr>\n",
       "    <tr>\n",
       "      <th>mer_pblh_avg</th>\n",
       "      <td>-0.143724</td>\n",
       "      <td>-0.256806</td>\n",
       "      <td>-0.246273</td>\n",
       "      <td>-0.270216</td>\n",
       "      <td>-0.250004</td>\n",
       "      <td>0.770257</td>\n",
       "      <td>1.000000</td>\n",
       "      <td>0.550015</td>\n",
       "      <td>0.840550</td>\n",
       "    </tr>\n",
       "    <tr>\n",
       "      <th>han_pblh_median</th>\n",
       "      <td>-0.147091</td>\n",
       "      <td>-0.172274</td>\n",
       "      <td>-0.457124</td>\n",
       "      <td>-0.485083</td>\n",
       "      <td>-0.140570</td>\n",
       "      <td>0.912221</td>\n",
       "      <td>0.550015</td>\n",
       "      <td>1.000000</td>\n",
       "      <td>0.309805</td>\n",
       "    </tr>\n",
       "    <tr>\n",
       "      <th>mer_pblh_median</th>\n",
       "      <td>-0.132196</td>\n",
       "      <td>-0.354302</td>\n",
       "      <td>0.101094</td>\n",
       "      <td>0.087912</td>\n",
       "      <td>-0.235310</td>\n",
       "      <td>0.456922</td>\n",
       "      <td>0.840550</td>\n",
       "      <td>0.309805</td>\n",
       "      <td>1.000000</td>\n",
       "    </tr>\n",
       "  </tbody>\n",
       "</table>\n",
       "</div>"
      ],
      "text/plain": [
       "                       DD        PT      See1      See2       std  \\\n",
       "DD               1.000000  0.206196  0.002811 -0.020466  0.280524   \n",
       "PT               0.206196  1.000000 -0.456127 -0.440416 -0.112226   \n",
       "See1             0.002811 -0.456127  1.000000  0.997169  0.317942   \n",
       "See2            -0.020466 -0.440416  0.997169  1.000000  0.279887   \n",
       "std              0.280524 -0.112226  0.317942  0.279887  1.000000   \n",
       "han_pblh_avg    -0.122983 -0.134898 -0.465376 -0.497896 -0.208061   \n",
       "mer_pblh_avg    -0.143724 -0.256806 -0.246273 -0.270216 -0.250004   \n",
       "han_pblh_median -0.147091 -0.172274 -0.457124 -0.485083 -0.140570   \n",
       "mer_pblh_median -0.132196 -0.354302  0.101094  0.087912 -0.235310   \n",
       "\n",
       "                 han_pblh_avg  mer_pblh_avg  han_pblh_median  mer_pblh_median  \n",
       "DD                  -0.122983     -0.143724        -0.147091        -0.132196  \n",
       "PT                  -0.134898     -0.256806        -0.172274        -0.354302  \n",
       "See1                -0.465376     -0.246273        -0.457124         0.101094  \n",
       "See2                -0.497896     -0.270216        -0.485083         0.087912  \n",
       "std                 -0.208061     -0.250004        -0.140570        -0.235310  \n",
       "han_pblh_avg         1.000000      0.770257         0.912221         0.456922  \n",
       "mer_pblh_avg         0.770257      1.000000         0.550015         0.840550  \n",
       "han_pblh_median      0.912221      0.550015         1.000000         0.309805  \n",
       "mer_pblh_median      0.456922      0.840550         0.309805         1.000000  "
      ]
     },
     "execution_count": 242,
     "metadata": {},
     "output_type": "execute_result"
    }
   ],
   "source": [
    "merged_nighttime_merra_monthly.corr(method = 'pearson')"
   ]
  },
  {
   "cell_type": "code",
   "execution_count": 244,
   "metadata": {},
   "outputs": [],
   "source": [
    "fit = np.polyfit(merged_nighttime_merra_monthly['See2'],merged_nighttime_merra_monthly['han_pblh_median'],1)\n",
    "fit_fn = np.poly1d(fit) \n",
    "# fit_fn is now a function which takes in x and returns an estimate for y\n",
    "\n"
   ]
  },
  {
   "cell_type": "code",
   "execution_count": 255,
   "metadata": {},
   "outputs": [],
   "source": [
    "plt.scatter?"
   ]
  },
  {
   "cell_type": "code",
   "execution_count": 313,
   "metadata": {},
   "outputs": [
    {
     "data": {
      "image/png": "[encoded data removed]",
      "text/plain": [
       "<Figure size 1500x1500 with 1 Axes>"
      ]
     },
     "metadata": {
      "needs_background": "light"
     },
     "output_type": "display_data"
    }
   ],
   "source": [
    "plt.figure(figsize=(10,10),dpi=150)\n",
    "plt.scatter(merged_nighttime_merra_monthly['See2'],merged_nighttime_merra_monthly['han_pblh_median'],marker='o')\n",
    "plt.plot(merged_nighttime_merra_monthly['See2'], fit_fn(merged_nighttime_merra_monthly['See2']), ':r',label='linear fit')\n",
    "plt.title('Hanle PBLH vs. Nighttime seeing',fontsize=18)\n",
    "plt.text(1.5,1.5,'r = -0.4653',fontsize=15,)\n",
    "plt.ylabel('Hanle PBLH Nighttime Median')\n",
    "plt.xlabel('Seeing Nighttime Median')\n",
    "plt.legend(loc='upper right')\n",
    "plt.savefig('../Plots/Hanle PBLH vs. Nighttime seeing.png')\n",
    "plt.show()\n",
    "plt.close()"
   ]
  },
  {
   "cell_type": "code",
   "execution_count": 314,
   "metadata": {},
   "outputs": [
    {
     "data": {
      "image/png": "[encoded data removed]",
      "text/plain": [
       "<Figure size 1500x1500 with 1 Axes>"
      ]
     },
     "metadata": {
      "needs_background": "light"
     },
     "output_type": "display_data"
    }
   ],
   "source": [
    "fit = np.polyfit(merged_nighttime_merra_monthly['See1'],merged_nighttime_merra_monthly['han_pblh_avg'],1)\n",
    "fit_fn = np.poly1d(fit) \n",
    "plt.figure(figsize=(10,10),dpi=150)\n",
    "plt.scatter(merged_nighttime_merra_monthly['See1'],merged_nighttime_merra_monthly['han_pblh_avg'],marker='o')\n",
    "plt.plot(merged_nighttime_merra_monthly['See1'], fit_fn(merged_nighttime_merra_monthly['See1']), ':r',label='linear fit')\n",
    "plt.title('Hanle PBLH vs. Nighttime seeing',fontsize=18)\n",
    "plt.text(1.5,1.5,'r = -0.4853',fontsize=15,)\n",
    "plt.ylabel('Hanle PBLH Nighttime Average')\n",
    "plt.xlabel('Seeing Nighttime Average')\n",
    "plt.legend(loc='upper right')\n",
    "plt.savefig('../Plots/Hanle PBLH vs. Nighttime seeing avg.png')\n",
    "plt.show()\n",
    "plt.close()"
   ]
  },
  {
   "cell_type": "code",
   "execution_count": 17,
   "metadata": {},
   "outputs": [],
   "source": [
    "#hanle daytime r0 with era5 and merra"
   ]
  },
  {
   "cell_type": "code",
   "execution_count": 29,
   "metadata": {},
   "outputs": [],
   "source": [
    "r0_hanle_daytime = pd.read_csv('../Project Data/Hanle_r0_med_stddev.txt', sep='\\s+',header=None)"
   ]
  },
  {
   "cell_type": "code",
   "execution_count": 30,
   "metadata": {},
   "outputs": [],
   "source": [
    "r0_hanle_daytime.columns=['days','r0_median','std dev']"
   ]
  },
  {
   "cell_type": "code",
   "execution_count": 31,
   "metadata": {},
   "outputs": [],
   "source": [
    "datelist = []\n",
    "the_date = datetime(2007,1,1).date()\n",
    "id_tracker = 0\n",
    "for date_id in r0_hanle_daytime['days'].values:\n",
    "    if(date_id < id_tracker):\n",
    "        the_date = datetime(the_date.year+1, 1,1).date()\n",
    "    current_date = the_date + timedelta(days = int(date_id)-1)\n",
    "    datelist.append(current_date)\n",
    "    id_tracker = int(date_id)"
   ]
  },
  {
   "cell_type": "code",
   "execution_count": 32,
   "metadata": {},
   "outputs": [],
   "source": [
    "r0_hanle_daytime['date'] = datelist"
   ]
  },
  {
   "cell_type": "code",
   "execution_count": 22,
   "metadata": {},
   "outputs": [],
   "source": [
    "era5_daytime = pd.read_csv('../Output Data/era5_daytime.txt',sep='\\t',parse_dates=['date'])\n",
    "\n",
    "era5_daytime['date'] = era5_daytime['date'].apply(lambda x:x.date())\n",
    "\n",
    "#hanle_era5_daytime[a] = hanle_era5_daytime[a] * 1000\n",
    "\n",
    "\n",
    "merged_r0_daytime = pd.merge(r0_hanle_daytime,era5_daytime,how='left',left_on = ['date'],right_on=['date'])\n",
    "\n",
    "plt.figure(figsize=(10,10))\n",
    "plt.scatter(merged_r0_daytime['r0_median'],merged_r0_daytime['hanle_pblh_era5_median'])\n",
    "plt.suptitle('r0 hanle era5')\n",
    "plt.ylabel('PBLH daytime med')\n",
    "plt.xlabel('r0 daytime med')\n",
    "plt.show()"
   ]
  },
  {
   "cell_type": "code",
   "execution_count": 83,
   "metadata": {},
   "outputs": [],
   "source": [
    "merr_daytime = pd.read_csv('../Output Data/merra_daytime.txt',sep='\\t',parse_dates=['date'])"
   ]
  },
  {
   "cell_type": "code",
   "execution_count": 84,
   "metadata": {},
   "outputs": [],
   "source": [
    "merr_daytime['date'] = merr_daytime['date'].apply(lambda x:x.date())"
   ]
  },
  {
   "cell_type": "code",
   "execution_count": 29,
   "metadata": {},
   "outputs": [],
   "source": [
    "#getting monthly to plot monthly of merra and r0 hanle"
   ]
  },
  {
   "cell_type": "code",
   "execution_count": 85,
   "metadata": {},
   "outputs": [],
   "source": [
    "merr_daytime['year'] = merr_daytime['date'].apply(lambda x:x.year)\n",
    "merr_daytime['month'] = merr_daytime['date'].apply(lambda x:x.month)"
   ]
  },
  {
   "cell_type": "code",
   "execution_count": 86,
   "metadata": {},
   "outputs": [],
   "source": [
    "monthly_median_day_merra_pblh = merr_daytime.groupby(['year','month']).median().reset_index([0,1])"
   ]
  },
  {
   "cell_type": "code",
   "execution_count": 37,
   "metadata": {},
   "outputs": [],
   "source": [
    "r0_hanle_daytime['year'] = r0_hanle_daytime['date'].apply(lambda x:x.year)\n",
    "r0_hanle_daytime['month'] = r0_hanle_daytime['date'].apply(lambda x:x.month)"
   ]
  },
  {
   "cell_type": "code",
   "execution_count": 38,
   "metadata": {},
   "outputs": [],
   "source": [
    "monthly_r0_median = r0_hanle_daytime.groupby(['year','month']).median().reset_index([0,1])"
   ]
  },
  {
   "cell_type": "code",
   "execution_count": 39,
   "metadata": {},
   "outputs": [
    {
     "data": {
      "text/html": [
       "<div>\n",
       "<style scoped>\n",
       "    .dataframe tbody tr th:only-of-type {\n",
       "        vertical-align: middle;\n",
       "    }\n",
       "\n",
       "    .dataframe tbody tr th {\n",
       "        vertical-align: top;\n",
       "    }\n",
       "\n",
       "    .dataframe thead th {\n",
       "        text-align: right;\n",
       "    }\n",
       "</style>\n",
       "<table border=\"1\" class=\"dataframe\">\n",
       "  <thead>\n",
       "    <tr style=\"text-align: right;\">\n",
       "      <th></th>\n",
       "      <th>year</th>\n",
       "      <th>month</th>\n",
       "      <th>days</th>\n",
       "      <th>r0_median</th>\n",
       "      <th>std dev</th>\n",
       "    </tr>\n",
       "  </thead>\n",
       "  <tbody>\n",
       "    <tr>\n",
       "      <th>0</th>\n",
       "      <td>2007</td>\n",
       "      <td>5</td>\n",
       "      <td>142.56700</td>\n",
       "      <td>4.25660</td>\n",
       "      <td>0.712889</td>\n",
       "    </tr>\n",
       "    <tr>\n",
       "      <th>1</th>\n",
       "      <td>2007</td>\n",
       "      <td>6</td>\n",
       "      <td>163.62950</td>\n",
       "      <td>3.96145</td>\n",
       "      <td>1.069200</td>\n",
       "    </tr>\n",
       "    <tr>\n",
       "      <th>2</th>\n",
       "      <td>2007</td>\n",
       "      <td>7</td>\n",
       "      <td>196.07100</td>\n",
       "      <td>4.95120</td>\n",
       "      <td>1.378930</td>\n",
       "    </tr>\n",
       "    <tr>\n",
       "      <th>3</th>\n",
       "      <td>2007</td>\n",
       "      <td>8</td>\n",
       "      <td>229.07400</td>\n",
       "      <td>4.71230</td>\n",
       "      <td>1.366510</td>\n",
       "    </tr>\n",
       "    <tr>\n",
       "      <th>4</th>\n",
       "      <td>2007</td>\n",
       "      <td>9</td>\n",
       "      <td>257.63500</td>\n",
       "      <td>4.70385</td>\n",
       "      <td>1.124835</td>\n",
       "    </tr>\n",
       "    <tr>\n",
       "      <th>5</th>\n",
       "      <td>2007</td>\n",
       "      <td>10</td>\n",
       "      <td>290.16300</td>\n",
       "      <td>3.83180</td>\n",
       "      <td>1.144545</td>\n",
       "    </tr>\n",
       "    <tr>\n",
       "      <th>6</th>\n",
       "      <td>2007</td>\n",
       "      <td>11</td>\n",
       "      <td>319.11700</td>\n",
       "      <td>3.44850</td>\n",
       "      <td>1.142620</td>\n",
       "    </tr>\n",
       "    <tr>\n",
       "      <th>7</th>\n",
       "      <td>2007</td>\n",
       "      <td>12</td>\n",
       "      <td>350.62800</td>\n",
       "      <td>3.48560</td>\n",
       "      <td>0.622892</td>\n",
       "    </tr>\n",
       "    <tr>\n",
       "      <th>8</th>\n",
       "      <td>2008</td>\n",
       "      <td>1</td>\n",
       "      <td>21.68685</td>\n",
       "      <td>3.91180</td>\n",
       "      <td>0.706608</td>\n",
       "    </tr>\n",
       "    <tr>\n",
       "      <th>9</th>\n",
       "      <td>2008</td>\n",
       "      <td>2</td>\n",
       "      <td>46.61725</td>\n",
       "      <td>3.34745</td>\n",
       "      <td>0.874424</td>\n",
       "    </tr>\n",
       "  </tbody>\n",
       "</table>\n",
       "</div>"
      ],
      "text/plain": [
       "   year  month       days  r0_median   std dev\n",
       "0  2007      5  142.56700    4.25660  0.712889\n",
       "1  2007      6  163.62950    3.96145  1.069200\n",
       "2  2007      7  196.07100    4.95120  1.378930\n",
       "3  2007      8  229.07400    4.71230  1.366510\n",
       "4  2007      9  257.63500    4.70385  1.124835\n",
       "5  2007     10  290.16300    3.83180  1.144545\n",
       "6  2007     11  319.11700    3.44850  1.142620\n",
       "7  2007     12  350.62800    3.48560  0.622892\n",
       "8  2008      1   21.68685    3.91180  0.706608\n",
       "9  2008      2   46.61725    3.34745  0.874424"
      ]
     },
     "execution_count": 39,
     "metadata": {},
     "output_type": "execute_result"
    }
   ],
   "source": [
    "monthly_r0_median.head(10)"
   ]
  },
  {
   "cell_type": "code",
   "execution_count": 40,
   "metadata": {},
   "outputs": [],
   "source": [
    "#merged_r0_merra_daytime = pd.merge(r0_hanle_daytime,merr_daytime,how='left',left_on = ['date'],right_on=['date'])"
   ]
  },
  {
   "cell_type": "code",
   "execution_count": 41,
   "metadata": {},
   "outputs": [],
   "source": [
    "merged_r0_merra_daytime_monthly = pd.merge(monthly_r0_median,monthly_median_day_merra_pblh,how='left',left_on = ['year','month'],right_on=['year','month'])"
   ]
  },
  {
   "cell_type": "code",
   "execution_count": 42,
   "metadata": {},
   "outputs": [
    {
     "data": {
      "text/html": [
       "<div>\n",
       "<style scoped>\n",
       "    .dataframe tbody tr th:only-of-type {\n",
       "        vertical-align: middle;\n",
       "    }\n",
       "\n",
       "    .dataframe tbody tr th {\n",
       "        vertical-align: top;\n",
       "    }\n",
       "\n",
       "    .dataframe thead th {\n",
       "        text-align: right;\n",
       "    }\n",
       "</style>\n",
       "<table border=\"1\" class=\"dataframe\">\n",
       "  <thead>\n",
       "    <tr style=\"text-align: right;\">\n",
       "      <th></th>\n",
       "      <th>year</th>\n",
       "      <th>month</th>\n",
       "      <th>days</th>\n",
       "      <th>r0_median</th>\n",
       "      <th>std dev</th>\n",
       "      <th>han_pblh_avg</th>\n",
       "      <th>mer_pblh_avg</th>\n",
       "      <th>han_pblh_median</th>\n",
       "      <th>mer_pblh_median</th>\n",
       "    </tr>\n",
       "  </thead>\n",
       "  <tbody>\n",
       "    <tr>\n",
       "      <th>year</th>\n",
       "      <td>1.000000</td>\n",
       "      <td>-0.493114</td>\n",
       "      <td>-0.499698</td>\n",
       "      <td>-0.278561</td>\n",
       "      <td>0.111122</td>\n",
       "      <td>0.013964</td>\n",
       "      <td>-0.129804</td>\n",
       "      <td>-0.094302</td>\n",
       "      <td>-0.113717</td>\n",
       "    </tr>\n",
       "    <tr>\n",
       "      <th>month</th>\n",
       "      <td>-0.493114</td>\n",
       "      <td>1.000000</td>\n",
       "      <td>0.999479</td>\n",
       "      <td>-0.090274</td>\n",
       "      <td>0.083330</td>\n",
       "      <td>-0.248828</td>\n",
       "      <td>0.273097</td>\n",
       "      <td>-0.175081</td>\n",
       "      <td>0.197954</td>\n",
       "    </tr>\n",
       "    <tr>\n",
       "      <th>days</th>\n",
       "      <td>-0.499698</td>\n",
       "      <td>0.999479</td>\n",
       "      <td>1.000000</td>\n",
       "      <td>-0.084982</td>\n",
       "      <td>0.069977</td>\n",
       "      <td>-0.262196</td>\n",
       "      <td>0.272732</td>\n",
       "      <td>-0.189644</td>\n",
       "      <td>0.196747</td>\n",
       "    </tr>\n",
       "    <tr>\n",
       "      <th>r0_median</th>\n",
       "      <td>-0.278561</td>\n",
       "      <td>-0.090274</td>\n",
       "      <td>-0.084982</td>\n",
       "      <td>1.000000</td>\n",
       "      <td>0.403640</td>\n",
       "      <td>-0.315838</td>\n",
       "      <td>0.303381</td>\n",
       "      <td>-0.044451</td>\n",
       "      <td>0.507047</td>\n",
       "    </tr>\n",
       "    <tr>\n",
       "      <th>std dev</th>\n",
       "      <td>0.111122</td>\n",
       "      <td>0.083330</td>\n",
       "      <td>0.069977</td>\n",
       "      <td>0.403640</td>\n",
       "      <td>1.000000</td>\n",
       "      <td>-0.026540</td>\n",
       "      <td>0.295505</td>\n",
       "      <td>0.223598</td>\n",
       "      <td>0.473042</td>\n",
       "    </tr>\n",
       "    <tr>\n",
       "      <th>han_pblh_avg</th>\n",
       "      <td>0.013964</td>\n",
       "      <td>-0.248828</td>\n",
       "      <td>-0.262196</td>\n",
       "      <td>-0.315838</td>\n",
       "      <td>-0.026540</td>\n",
       "      <td>1.000000</td>\n",
       "      <td>0.137037</td>\n",
       "      <td>0.851150</td>\n",
       "      <td>0.091820</td>\n",
       "    </tr>\n",
       "    <tr>\n",
       "      <th>mer_pblh_avg</th>\n",
       "      <td>-0.129804</td>\n",
       "      <td>0.273097</td>\n",
       "      <td>0.272732</td>\n",
       "      <td>0.303381</td>\n",
       "      <td>0.295505</td>\n",
       "      <td>0.137037</td>\n",
       "      <td>1.000000</td>\n",
       "      <td>0.372718</td>\n",
       "      <td>0.887974</td>\n",
       "    </tr>\n",
       "    <tr>\n",
       "      <th>han_pblh_median</th>\n",
       "      <td>-0.094302</td>\n",
       "      <td>-0.175081</td>\n",
       "      <td>-0.189644</td>\n",
       "      <td>-0.044451</td>\n",
       "      <td>0.223598</td>\n",
       "      <td>0.851150</td>\n",
       "      <td>0.372718</td>\n",
       "      <td>1.000000</td>\n",
       "      <td>0.451419</td>\n",
       "    </tr>\n",
       "    <tr>\n",
       "      <th>mer_pblh_median</th>\n",
       "      <td>-0.113717</td>\n",
       "      <td>0.197954</td>\n",
       "      <td>0.196747</td>\n",
       "      <td>0.507047</td>\n",
       "      <td>0.473042</td>\n",
       "      <td>0.091820</td>\n",
       "      <td>0.887974</td>\n",
       "      <td>0.451419</td>\n",
       "      <td>1.000000</td>\n",
       "    </tr>\n",
       "  </tbody>\n",
       "</table>\n",
       "</div>"
      ],
      "text/plain": [
       "                     year     month      days  r0_median   std dev  \\\n",
       "year             1.000000 -0.493114 -0.499698  -0.278561  0.111122   \n",
       "month           -0.493114  1.000000  0.999479  -0.090274  0.083330   \n",
       "days            -0.499698  0.999479  1.000000  -0.084982  0.069977   \n",
       "r0_median       -0.278561 -0.090274 -0.084982   1.000000  0.403640   \n",
       "std dev          0.111122  0.083330  0.069977   0.403640  1.000000   \n",
       "han_pblh_avg     0.013964 -0.248828 -0.262196  -0.315838 -0.026540   \n",
       "mer_pblh_avg    -0.129804  0.273097  0.272732   0.303381  0.295505   \n",
       "han_pblh_median -0.094302 -0.175081 -0.189644  -0.044451  0.223598   \n",
       "mer_pblh_median -0.113717  0.197954  0.196747   0.507047  0.473042   \n",
       "\n",
       "                 han_pblh_avg  mer_pblh_avg  han_pblh_median  mer_pblh_median  \n",
       "year                 0.013964     -0.129804        -0.094302        -0.113717  \n",
       "month               -0.248828      0.273097        -0.175081         0.197954  \n",
       "days                -0.262196      0.272732        -0.189644         0.196747  \n",
       "r0_median           -0.315838      0.303381        -0.044451         0.507047  \n",
       "std dev             -0.026540      0.295505         0.223598         0.473042  \n",
       "han_pblh_avg         1.000000      0.137037         0.851150         0.091820  \n",
       "mer_pblh_avg         0.137037      1.000000         0.372718         0.887974  \n",
       "han_pblh_median      0.851150      0.372718         1.000000         0.451419  \n",
       "mer_pblh_median      0.091820      0.887974         0.451419         1.000000  "
      ]
     },
     "execution_count": 42,
     "metadata": {},
     "output_type": "execute_result"
    }
   ],
   "source": [
    "merged_r0_merra_daytime_monthly.corr()"
   ]
  },
  {
   "cell_type": "code",
   "execution_count": 38,
   "metadata": {
    "scrolled": true
   },
   "outputs": [
    {
     "data": {
      "image/png": "[encoded data removed]",
      "text/plain": [
       "<Figure size 720x720 with 1 Axes>"
      ]
     },
     "metadata": {
      "needs_background": "light"
     },
     "output_type": "display_data"
    }
   ],
   "source": [
    "plt.figure(figsize=(10,10))\n",
    "plt.scatter(merged_r0_merra_daytime['r0_median'],merged_r0_merra_daytime['han_pblh_median'])\n",
    "plt.suptitle('merra vs r0 hanle')\n",
    "plt.ylabel('PBLH daytime med')\n",
    "plt.xlabel('r0 daytime med')\n",
    "plt.show()"
   ]
  },
  {
   "cell_type": "code",
   "execution_count": 43,
   "metadata": {},
   "outputs": [
    {
     "data": {
      "image/png": "[encoded data removed]",
      "text/plain": [
       "<Figure size 720x720 with 1 Axes>"
      ]
     },
     "metadata": {
      "needs_background": "light"
     },
     "output_type": "display_data"
    }
   ],
   "source": [
    "plt.figure(figsize=(10,10))\n",
    "plt.scatter(merged_r0_merra_daytime_monthly['r0_median'],merged_r0_merra_daytime_monthly['han_pblh_avg'])\n",
    "plt.suptitle('merra vs r0 hanle monthly')\n",
    "plt.ylabel('PBLH daytime med')\n",
    "plt.xlabel('r0 daytime med')\n",
    "plt.show()"
   ]
  },
  {
   "cell_type": "code",
   "execution_count": 40,
   "metadata": {},
   "outputs": [],
   "source": [
    "#merak r0 hourly with era5"
   ]
  },
  {
   "cell_type": "code",
   "execution_count": 96,
   "metadata": {},
   "outputs": [],
   "source": [
    "r0_hourly_merak = pd.read_csv('../Project Data/Merak_r0_doy_date_median_sd_hrly.txt', sep='\\s+',header=None)\n",
    "\n",
    "r0_hourly_merak.columns = ['day','date','hour','r0','stddev']\n",
    "\n",
    "r0_hourly_merak['date'] = r0_hourly_merak['date'].apply(lambda x:str(x))\n",
    "\n",
    "r0_hourly_merak.head(10)\n",
    "\n",
    "datelist_mer = []\n",
    "the_date = datetime(2008,1,1).date()\n",
    "id_tracker = 0\n",
    "for date_id in r0_hourly_merak['day'].values:\n",
    "    if(date_id < id_tracker):\n",
    "        the_date = datetime(the_date.year+1, 1,1).date()\n",
    "    current_date = the_date + timedelta(days = int(date_id)-1)\n",
    "    datelist_mer.append(current_date)\n",
    "    id_tracker = int(date_id)\n",
    "\n",
    "r0_hourly_merak['date'] = datelist_mer\n",
    "\n",
    "r0_hourly_merak['month'] = r0_hourly_merak['date'].apply(lambda x:x.month)\n",
    "r0_hourly_merak['year'] = r0_hourly_merak['date'].apply(lambda x:x.year)"
   ]
  },
  {
   "cell_type": "code",
   "execution_count": 97,
   "metadata": {},
   "outputs": [],
   "source": [
    "r0_hourly_merak = r0_hourly_merak[r0_hourly_merak.r0 != 0]"
   ]
  },
  {
   "cell_type": "code",
   "execution_count": 48,
   "metadata": {},
   "outputs": [],
   "source": [
    "era5_full = pd.read_csv('../Output Data/erai5_full.txt',sep='\\t',parse_dates=['date'])\n",
    "\n",
    "era5_full.time =era5_full.time.apply(lambda x: float(x[0:2]))\n",
    "\n",
    "era5_full.date = era5_full.date.apply(lambda x:x.date())\n",
    "\n",
    "merged_hourly = pd.merge(r0_hourly_merak,era5_full,how='left',left_on=['date','hour'],right_on=['date','time'])\n",
    "\n",
    "merged_hourly_nozero = merged_hourly[merged_hourly.r0 != 0]\n",
    "\n",
    "plt.figure(figsize=(10,10))\n",
    "plt.scatter(merged_hourly['r0'],merged_hourly['merak_pblh_era5'])\n",
    "plt.suptitle('era5 vs r0 merak hourly')\n",
    "plt.ylabel('PBLH daytime med')\n",
    "plt.xlabel('r0 daytime med')\n",
    "plt.show()\n",
    "\n",
    "merged_hourly_nozero.corr()"
   ]
  },
  {
   "cell_type": "code",
   "execution_count": 98,
   "metadata": {},
   "outputs": [],
   "source": [
    "merra_monthly = monthly_median_day_merra_pblh"
   ]
  },
  {
   "cell_type": "code",
   "execution_count": 99,
   "metadata": {},
   "outputs": [
    {
     "data": {
      "text/html": [
       "<div>\n",
       "<style scoped>\n",
       "    .dataframe tbody tr th:only-of-type {\n",
       "        vertical-align: middle;\n",
       "    }\n",
       "\n",
       "    .dataframe tbody tr th {\n",
       "        vertical-align: top;\n",
       "    }\n",
       "\n",
       "    .dataframe thead th {\n",
       "        text-align: right;\n",
       "    }\n",
       "</style>\n",
       "<table border=\"1\" class=\"dataframe\">\n",
       "  <thead>\n",
       "    <tr style=\"text-align: right;\">\n",
       "      <th></th>\n",
       "      <th>year</th>\n",
       "      <th>month</th>\n",
       "      <th>han_pblh_avg</th>\n",
       "      <th>mer_pblh_avg</th>\n",
       "      <th>han_pblh_median</th>\n",
       "      <th>mer_pblh_median</th>\n",
       "    </tr>\n",
       "  </thead>\n",
       "  <tbody>\n",
       "    <tr>\n",
       "      <th>0</th>\n",
       "      <td>1980</td>\n",
       "      <td>1</td>\n",
       "      <td>1.226636</td>\n",
       "      <td>1.372993</td>\n",
       "      <td>1.244038</td>\n",
       "      <td>1.408715</td>\n",
       "    </tr>\n",
       "    <tr>\n",
       "      <th>1</th>\n",
       "      <td>1980</td>\n",
       "      <td>2</td>\n",
       "      <td>1.707148</td>\n",
       "      <td>1.774500</td>\n",
       "      <td>1.576722</td>\n",
       "      <td>1.787354</td>\n",
       "    </tr>\n",
       "  </tbody>\n",
       "</table>\n",
       "</div>"
      ],
      "text/plain": [
       "   year  month  han_pblh_avg  mer_pblh_avg  han_pblh_median  mer_pblh_median\n",
       "0  1980      1      1.226636      1.372993         1.244038         1.408715\n",
       "1  1980      2      1.707148      1.774500         1.576722         1.787354"
      ]
     },
     "execution_count": 99,
     "metadata": {},
     "output_type": "execute_result"
    }
   ],
   "source": [
    "merra_monthly.head(2)"
   ]
  },
  {
   "cell_type": "code",
   "execution_count": 100,
   "metadata": {},
   "outputs": [],
   "source": [
    "r0_merak_monthly = r0_hourly_merak.groupby(['year','month']).median().reset_index()"
   ]
  },
  {
   "cell_type": "code",
   "execution_count": 101,
   "metadata": {},
   "outputs": [],
   "source": [
    "merged_r0_merra = pd.merge(r0_merak_monthly,merra_monthly,how='left',left_on=(['year','month']),right_on=['year','month'])"
   ]
  },
  {
   "cell_type": "code",
   "execution_count": 102,
   "metadata": {},
   "outputs": [
    {
     "data": {
      "text/html": [
       "<div>\n",
       "<style scoped>\n",
       "    .dataframe tbody tr th:only-of-type {\n",
       "        vertical-align: middle;\n",
       "    }\n",
       "\n",
       "    .dataframe tbody tr th {\n",
       "        vertical-align: top;\n",
       "    }\n",
       "\n",
       "    .dataframe thead th {\n",
       "        text-align: right;\n",
       "    }\n",
       "</style>\n",
       "<table border=\"1\" class=\"dataframe\">\n",
       "  <thead>\n",
       "    <tr style=\"text-align: right;\">\n",
       "      <th></th>\n",
       "      <th>year</th>\n",
       "      <th>month</th>\n",
       "      <th>day</th>\n",
       "      <th>hour</th>\n",
       "      <th>r0</th>\n",
       "      <th>stddev</th>\n",
       "      <th>han_pblh_avg</th>\n",
       "      <th>mer_pblh_avg</th>\n",
       "      <th>han_pblh_median</th>\n",
       "      <th>mer_pblh_median</th>\n",
       "    </tr>\n",
       "  </thead>\n",
       "  <tbody>\n",
       "    <tr>\n",
       "      <th>year</th>\n",
       "      <td>1.000000</td>\n",
       "      <td>-0.923186</td>\n",
       "      <td>-0.930391</td>\n",
       "      <td>0.000000</td>\n",
       "      <td>0.136422</td>\n",
       "      <td>0.333022</td>\n",
       "      <td>0.460700</td>\n",
       "      <td>0.379028</td>\n",
       "      <td>0.418683</td>\n",
       "      <td>0.337638</td>\n",
       "    </tr>\n",
       "    <tr>\n",
       "      <th>month</th>\n",
       "      <td>-0.923186</td>\n",
       "      <td>1.000000</td>\n",
       "      <td>0.998924</td>\n",
       "      <td>0.153864</td>\n",
       "      <td>0.062297</td>\n",
       "      <td>-0.029691</td>\n",
       "      <td>-0.432753</td>\n",
       "      <td>-0.282490</td>\n",
       "      <td>-0.267948</td>\n",
       "      <td>-0.172532</td>\n",
       "    </tr>\n",
       "    <tr>\n",
       "      <th>day</th>\n",
       "      <td>-0.930391</td>\n",
       "      <td>0.998924</td>\n",
       "      <td>1.000000</td>\n",
       "      <td>0.147697</td>\n",
       "      <td>0.068223</td>\n",
       "      <td>-0.034608</td>\n",
       "      <td>-0.433152</td>\n",
       "      <td>-0.280842</td>\n",
       "      <td>-0.268180</td>\n",
       "      <td>-0.172202</td>\n",
       "    </tr>\n",
       "    <tr>\n",
       "      <th>hour</th>\n",
       "      <td>0.000000</td>\n",
       "      <td>0.153864</td>\n",
       "      <td>0.147697</td>\n",
       "      <td>1.000000</td>\n",
       "      <td>-0.294097</td>\n",
       "      <td>0.172077</td>\n",
       "      <td>-0.570813</td>\n",
       "      <td>-0.030980</td>\n",
       "      <td>-0.240421</td>\n",
       "      <td>0.232613</td>\n",
       "    </tr>\n",
       "    <tr>\n",
       "      <th>r0</th>\n",
       "      <td>0.136422</td>\n",
       "      <td>0.062297</td>\n",
       "      <td>0.068223</td>\n",
       "      <td>-0.294097</td>\n",
       "      <td>1.000000</td>\n",
       "      <td>0.601976</td>\n",
       "      <td>0.451152</td>\n",
       "      <td>0.300755</td>\n",
       "      <td>0.617253</td>\n",
       "      <td>0.296077</td>\n",
       "    </tr>\n",
       "    <tr>\n",
       "      <th>stddev</th>\n",
       "      <td>0.333022</td>\n",
       "      <td>-0.029691</td>\n",
       "      <td>-0.034608</td>\n",
       "      <td>0.172077</td>\n",
       "      <td>0.601976</td>\n",
       "      <td>1.000000</td>\n",
       "      <td>0.502602</td>\n",
       "      <td>0.678228</td>\n",
       "      <td>0.716872</td>\n",
       "      <td>0.749085</td>\n",
       "    </tr>\n",
       "    <tr>\n",
       "      <th>han_pblh_avg</th>\n",
       "      <td>0.460700</td>\n",
       "      <td>-0.432753</td>\n",
       "      <td>-0.433152</td>\n",
       "      <td>-0.570813</td>\n",
       "      <td>0.451152</td>\n",
       "      <td>0.502602</td>\n",
       "      <td>1.000000</td>\n",
       "      <td>0.657366</td>\n",
       "      <td>0.887847</td>\n",
       "      <td>0.457726</td>\n",
       "    </tr>\n",
       "    <tr>\n",
       "      <th>mer_pblh_avg</th>\n",
       "      <td>0.379028</td>\n",
       "      <td>-0.282490</td>\n",
       "      <td>-0.280842</td>\n",
       "      <td>-0.030980</td>\n",
       "      <td>0.300755</td>\n",
       "      <td>0.678228</td>\n",
       "      <td>0.657366</td>\n",
       "      <td>1.000000</td>\n",
       "      <td>0.746161</td>\n",
       "      <td>0.955754</td>\n",
       "    </tr>\n",
       "    <tr>\n",
       "      <th>han_pblh_median</th>\n",
       "      <td>0.418683</td>\n",
       "      <td>-0.267948</td>\n",
       "      <td>-0.268180</td>\n",
       "      <td>-0.240421</td>\n",
       "      <td>0.617253</td>\n",
       "      <td>0.716872</td>\n",
       "      <td>0.887847</td>\n",
       "      <td>0.746161</td>\n",
       "      <td>1.000000</td>\n",
       "      <td>0.659385</td>\n",
       "    </tr>\n",
       "    <tr>\n",
       "      <th>mer_pblh_median</th>\n",
       "      <td>0.337638</td>\n",
       "      <td>-0.172532</td>\n",
       "      <td>-0.172202</td>\n",
       "      <td>0.232613</td>\n",
       "      <td>0.296077</td>\n",
       "      <td>0.749085</td>\n",
       "      <td>0.457726</td>\n",
       "      <td>0.955754</td>\n",
       "      <td>0.659385</td>\n",
       "      <td>1.000000</td>\n",
       "    </tr>\n",
       "  </tbody>\n",
       "</table>\n",
       "</div>"
      ],
      "text/plain": [
       "                     year     month       day      hour        r0    stddev  \\\n",
       "year             1.000000 -0.923186 -0.930391  0.000000  0.136422  0.333022   \n",
       "month           -0.923186  1.000000  0.998924  0.153864  0.062297 -0.029691   \n",
       "day             -0.930391  0.998924  1.000000  0.147697  0.068223 -0.034608   \n",
       "hour             0.000000  0.153864  0.147697  1.000000 -0.294097  0.172077   \n",
       "r0               0.136422  0.062297  0.068223 -0.294097  1.000000  0.601976   \n",
       "stddev           0.333022 -0.029691 -0.034608  0.172077  0.601976  1.000000   \n",
       "han_pblh_avg     0.460700 -0.432753 -0.433152 -0.570813  0.451152  0.502602   \n",
       "mer_pblh_avg     0.379028 -0.282490 -0.280842 -0.030980  0.300755  0.678228   \n",
       "han_pblh_median  0.418683 -0.267948 -0.268180 -0.240421  0.617253  0.716872   \n",
       "mer_pblh_median  0.337638 -0.172532 -0.172202  0.232613  0.296077  0.749085   \n",
       "\n",
       "                 han_pblh_avg  mer_pblh_avg  han_pblh_median  mer_pblh_median  \n",
       "year                 0.460700      0.379028         0.418683         0.337638  \n",
       "month               -0.432753     -0.282490        -0.267948        -0.172532  \n",
       "day                 -0.433152     -0.280842        -0.268180        -0.172202  \n",
       "hour                -0.570813     -0.030980        -0.240421         0.232613  \n",
       "r0                   0.451152      0.300755         0.617253         0.296077  \n",
       "stddev               0.502602      0.678228         0.716872         0.749085  \n",
       "han_pblh_avg         1.000000      0.657366         0.887847         0.457726  \n",
       "mer_pblh_avg         0.657366      1.000000         0.746161         0.955754  \n",
       "han_pblh_median      0.887847      0.746161         1.000000         0.659385  \n",
       "mer_pblh_median      0.457726      0.955754         0.659385         1.000000  "
      ]
     },
     "execution_count": 102,
     "metadata": {},
     "output_type": "execute_result"
    }
   ],
   "source": [
    "merged_r0_merra.corr()"
   ]
  },
  {
   "cell_type": "code",
   "execution_count": 55,
   "metadata": {},
   "outputs": [],
   "source": [
    "#merak daily r0 vs era5 and merra"
   ]
  },
  {
   "cell_type": "code",
   "execution_count": 103,
   "metadata": {},
   "outputs": [],
   "source": [
    "r0_merak_daily = pd.read_csv('../Project Data/Merak_r0_doy_date_median_sd.txt',sep='\\s+',header=None)\n",
    "\n",
    "r0_merak_daily.columns=('day','date','r0','std_dev')\n",
    "\n",
    "datelist_mer_daily = []\n",
    "the_date = datetime(2008,1,1).date()\n",
    "id_tracker = 0\n",
    "for date_id in r0_merak_daily['day'].values:\n",
    "    if(date_id < id_tracker):\n",
    "        the_date = datetime(the_date.year+1, 1,1).date()\n",
    "    current_date = the_date + timedelta(days = int(date_id)-1)\n",
    "    datelist_mer_daily.append(current_date)\n",
    "    id_tracker = int(date_id)\n",
    "\n",
    "r0_merak_daily.date=datelist_mer_daily"
   ]
  },
  {
   "cell_type": "code",
   "execution_count": 105,
   "metadata": {},
   "outputs": [],
   "source": [
    "r0_merak_daily['month'] = r0_merak_daily['date'].apply(lambda x:x.month)\n",
    "r0_merak_daily['year'] = r0_merak_daily['date'].apply(lambda x:x.year)"
   ]
  },
  {
   "cell_type": "code",
   "execution_count": 107,
   "metadata": {},
   "outputs": [],
   "source": [
    "r0_merak_monthly_2 = r0_merak_daily.groupby(['year','month']).median().reset_index()"
   ]
  },
  {
   "cell_type": "code",
   "execution_count": 108,
   "metadata": {},
   "outputs": [
    {
     "data": {
      "text/html": [
       "<div>\n",
       "<style scoped>\n",
       "    .dataframe tbody tr th:only-of-type {\n",
       "        vertical-align: middle;\n",
       "    }\n",
       "\n",
       "    .dataframe tbody tr th {\n",
       "        vertical-align: top;\n",
       "    }\n",
       "\n",
       "    .dataframe thead th {\n",
       "        text-align: right;\n",
       "    }\n",
       "</style>\n",
       "<table border=\"1\" class=\"dataframe\">\n",
       "  <thead>\n",
       "    <tr style=\"text-align: right;\">\n",
       "      <th></th>\n",
       "      <th>year</th>\n",
       "      <th>month</th>\n",
       "      <th>day</th>\n",
       "      <th>r0</th>\n",
       "      <th>std_dev</th>\n",
       "    </tr>\n",
       "  </thead>\n",
       "  <tbody>\n",
       "    <tr>\n",
       "      <th>0</th>\n",
       "      <td>2008</td>\n",
       "      <td>10</td>\n",
       "      <td>300.0</td>\n",
       "      <td>6.5066</td>\n",
       "      <td>2.0091</td>\n",
       "    </tr>\n",
       "    <tr>\n",
       "      <th>1</th>\n",
       "      <td>2008</td>\n",
       "      <td>11</td>\n",
       "      <td>319.0</td>\n",
       "      <td>5.0973</td>\n",
       "      <td>1.5094</td>\n",
       "    </tr>\n",
       "  </tbody>\n",
       "</table>\n",
       "</div>"
      ],
      "text/plain": [
       "   year  month    day      r0  std_dev\n",
       "0  2008     10  300.0  6.5066   2.0091\n",
       "1  2008     11  319.0  5.0973   1.5094"
      ]
     },
     "execution_count": 108,
     "metadata": {},
     "output_type": "execute_result"
    }
   ],
   "source": [
    "r0_merak_monthly_2.head(2)"
   ]
  },
  {
   "cell_type": "code",
   "execution_count": 110,
   "metadata": {},
   "outputs": [],
   "source": [
    "merged_daily_merak = pd.merge(r0_merak_monthly_2,merra_monthly,how='left',left_on=['year','month'],right_on=['year','month'])"
   ]
  },
  {
   "cell_type": "code",
   "execution_count": 111,
   "metadata": {},
   "outputs": [
    {
     "data": {
      "text/html": [
       "<div>\n",
       "<style scoped>\n",
       "    .dataframe tbody tr th:only-of-type {\n",
       "        vertical-align: middle;\n",
       "    }\n",
       "\n",
       "    .dataframe tbody tr th {\n",
       "        vertical-align: top;\n",
       "    }\n",
       "\n",
       "    .dataframe thead th {\n",
       "        text-align: right;\n",
       "    }\n",
       "</style>\n",
       "<table border=\"1\" class=\"dataframe\">\n",
       "  <thead>\n",
       "    <tr style=\"text-align: right;\">\n",
       "      <th></th>\n",
       "      <th>year</th>\n",
       "      <th>month</th>\n",
       "      <th>day</th>\n",
       "      <th>r0</th>\n",
       "      <th>std_dev</th>\n",
       "      <th>han_pblh_avg</th>\n",
       "      <th>mer_pblh_avg</th>\n",
       "      <th>han_pblh_median</th>\n",
       "      <th>mer_pblh_median</th>\n",
       "    </tr>\n",
       "  </thead>\n",
       "  <tbody>\n",
       "    <tr>\n",
       "      <th>year</th>\n",
       "      <td>1.000000</td>\n",
       "      <td>-0.923186</td>\n",
       "      <td>-0.932830</td>\n",
       "      <td>0.094027</td>\n",
       "      <td>0.317150</td>\n",
       "      <td>0.460700</td>\n",
       "      <td>0.379028</td>\n",
       "      <td>0.418683</td>\n",
       "      <td>0.337638</td>\n",
       "    </tr>\n",
       "    <tr>\n",
       "      <th>month</th>\n",
       "      <td>-0.923186</td>\n",
       "      <td>1.000000</td>\n",
       "      <td>0.999323</td>\n",
       "      <td>0.132856</td>\n",
       "      <td>-0.054210</td>\n",
       "      <td>-0.432753</td>\n",
       "      <td>-0.282490</td>\n",
       "      <td>-0.267948</td>\n",
       "      <td>-0.172532</td>\n",
       "    </tr>\n",
       "    <tr>\n",
       "      <th>day</th>\n",
       "      <td>-0.932830</td>\n",
       "      <td>0.999323</td>\n",
       "      <td>1.000000</td>\n",
       "      <td>0.134778</td>\n",
       "      <td>-0.062779</td>\n",
       "      <td>-0.431361</td>\n",
       "      <td>-0.284378</td>\n",
       "      <td>-0.271939</td>\n",
       "      <td>-0.178779</td>\n",
       "    </tr>\n",
       "    <tr>\n",
       "      <th>r0</th>\n",
       "      <td>0.094027</td>\n",
       "      <td>0.132856</td>\n",
       "      <td>0.134778</td>\n",
       "      <td>1.000000</td>\n",
       "      <td>0.738241</td>\n",
       "      <td>0.381986</td>\n",
       "      <td>0.419988</td>\n",
       "      <td>0.598936</td>\n",
       "      <td>0.458431</td>\n",
       "    </tr>\n",
       "    <tr>\n",
       "      <th>std_dev</th>\n",
       "      <td>0.317150</td>\n",
       "      <td>-0.054210</td>\n",
       "      <td>-0.062779</td>\n",
       "      <td>0.738241</td>\n",
       "      <td>1.000000</td>\n",
       "      <td>0.694177</td>\n",
       "      <td>0.671107</td>\n",
       "      <td>0.896958</td>\n",
       "      <td>0.680926</td>\n",
       "    </tr>\n",
       "    <tr>\n",
       "      <th>han_pblh_avg</th>\n",
       "      <td>0.460700</td>\n",
       "      <td>-0.432753</td>\n",
       "      <td>-0.431361</td>\n",
       "      <td>0.381986</td>\n",
       "      <td>0.694177</td>\n",
       "      <td>1.000000</td>\n",
       "      <td>0.657366</td>\n",
       "      <td>0.887847</td>\n",
       "      <td>0.457726</td>\n",
       "    </tr>\n",
       "    <tr>\n",
       "      <th>mer_pblh_avg</th>\n",
       "      <td>0.379028</td>\n",
       "      <td>-0.282490</td>\n",
       "      <td>-0.284378</td>\n",
       "      <td>0.419988</td>\n",
       "      <td>0.671107</td>\n",
       "      <td>0.657366</td>\n",
       "      <td>1.000000</td>\n",
       "      <td>0.746161</td>\n",
       "      <td>0.955754</td>\n",
       "    </tr>\n",
       "    <tr>\n",
       "      <th>han_pblh_median</th>\n",
       "      <td>0.418683</td>\n",
       "      <td>-0.267948</td>\n",
       "      <td>-0.271939</td>\n",
       "      <td>0.598936</td>\n",
       "      <td>0.896958</td>\n",
       "      <td>0.887847</td>\n",
       "      <td>0.746161</td>\n",
       "      <td>1.000000</td>\n",
       "      <td>0.659385</td>\n",
       "    </tr>\n",
       "    <tr>\n",
       "      <th>mer_pblh_median</th>\n",
       "      <td>0.337638</td>\n",
       "      <td>-0.172532</td>\n",
       "      <td>-0.178779</td>\n",
       "      <td>0.458431</td>\n",
       "      <td>0.680926</td>\n",
       "      <td>0.457726</td>\n",
       "      <td>0.955754</td>\n",
       "      <td>0.659385</td>\n",
       "      <td>1.000000</td>\n",
       "    </tr>\n",
       "  </tbody>\n",
       "</table>\n",
       "</div>"
      ],
      "text/plain": [
       "                     year     month       day        r0   std_dev  \\\n",
       "year             1.000000 -0.923186 -0.932830  0.094027  0.317150   \n",
       "month           -0.923186  1.000000  0.999323  0.132856 -0.054210   \n",
       "day             -0.932830  0.999323  1.000000  0.134778 -0.062779   \n",
       "r0               0.094027  0.132856  0.134778  1.000000  0.738241   \n",
       "std_dev          0.317150 -0.054210 -0.062779  0.738241  1.000000   \n",
       "han_pblh_avg     0.460700 -0.432753 -0.431361  0.381986  0.694177   \n",
       "mer_pblh_avg     0.379028 -0.282490 -0.284378  0.419988  0.671107   \n",
       "han_pblh_median  0.418683 -0.267948 -0.271939  0.598936  0.896958   \n",
       "mer_pblh_median  0.337638 -0.172532 -0.178779  0.458431  0.680926   \n",
       "\n",
       "                 han_pblh_avg  mer_pblh_avg  han_pblh_median  mer_pblh_median  \n",
       "year                 0.460700      0.379028         0.418683         0.337638  \n",
       "month               -0.432753     -0.282490        -0.267948        -0.172532  \n",
       "day                 -0.431361     -0.284378        -0.271939        -0.178779  \n",
       "r0                   0.381986      0.419988         0.598936         0.458431  \n",
       "std_dev              0.694177      0.671107         0.896958         0.680926  \n",
       "han_pblh_avg         1.000000      0.657366         0.887847         0.457726  \n",
       "mer_pblh_avg         0.657366      1.000000         0.746161         0.955754  \n",
       "han_pblh_median      0.887847      0.746161         1.000000         0.659385  \n",
       "mer_pblh_median      0.457726      0.955754         0.659385         1.000000  "
      ]
     },
     "execution_count": 111,
     "metadata": {},
     "output_type": "execute_result"
    }
   ],
   "source": [
    "merged_daily_merak.corr()"
   ]
  },
  {
   "cell_type": "code",
   "execution_count": 112,
   "metadata": {},
   "outputs": [
    {
     "data": {
      "image/png": "[encoded data removed]",
      "text/plain": [
       "<Figure size 720x720 with 1 Axes>"
      ]
     },
     "metadata": {
      "needs_background": "light"
     },
     "output_type": "display_data"
    }
   ],
   "source": [
    "plt.figure(figsize=(10,10))\n",
    "plt.scatter(merged_daily_merak['r0'],merged_daily_merak['mer_pblh_avg'])\n",
    "plt.suptitle('merra vs r0 daily merak ')\n",
    "plt.ylabel('PBLH daytime med')\n",
    "plt.xlabel('r0 daytime med')\n",
    "plt.show()"
   ]
  },
  {
   "cell_type": "code",
   "execution_count": 63,
   "metadata": {},
   "outputs": [],
   "source": [
    "merged_daily_merak_era5 = pd.merge(r0_merak_daily,era5_daytime,how='left',left_on=['date'],right_on=['date'])"
   ]
  },
  {
   "cell_type": "code",
   "execution_count": 64,
   "metadata": {},
   "outputs": [
    {
     "data": {
      "text/html": [
       "<div>\n",
       "<style scoped>\n",
       "    .dataframe tbody tr th:only-of-type {\n",
       "        vertical-align: middle;\n",
       "    }\n",
       "\n",
       "    .dataframe tbody tr th {\n",
       "        vertical-align: top;\n",
       "    }\n",
       "\n",
       "    .dataframe thead th {\n",
       "        text-align: right;\n",
       "    }\n",
       "</style>\n",
       "<table border=\"1\" class=\"dataframe\">\n",
       "  <thead>\n",
       "    <tr style=\"text-align: right;\">\n",
       "      <th></th>\n",
       "      <th>day</th>\n",
       "      <th>r0</th>\n",
       "      <th>std_dev</th>\n",
       "      <th>hanle_pblh_era5_avg</th>\n",
       "      <th>merak_pblh_era5_avg</th>\n",
       "      <th>hanle_pblh_era5_median</th>\n",
       "      <th>merak_pblh_era5_median</th>\n",
       "    </tr>\n",
       "  </thead>\n",
       "  <tbody>\n",
       "    <tr>\n",
       "      <th>day</th>\n",
       "      <td>1.000000</td>\n",
       "      <td>-0.048881</td>\n",
       "      <td>-0.204578</td>\n",
       "      <td>0.318136</td>\n",
       "      <td>0.318136</td>\n",
       "      <td>0.189882</td>\n",
       "      <td>0.189882</td>\n",
       "    </tr>\n",
       "    <tr>\n",
       "      <th>r0</th>\n",
       "      <td>-0.048881</td>\n",
       "      <td>1.000000</td>\n",
       "      <td>0.609746</td>\n",
       "      <td>0.261636</td>\n",
       "      <td>0.261636</td>\n",
       "      <td>0.278753</td>\n",
       "      <td>0.278753</td>\n",
       "    </tr>\n",
       "    <tr>\n",
       "      <th>std_dev</th>\n",
       "      <td>-0.204578</td>\n",
       "      <td>0.609746</td>\n",
       "      <td>1.000000</td>\n",
       "      <td>0.493250</td>\n",
       "      <td>0.493250</td>\n",
       "      <td>0.536012</td>\n",
       "      <td>0.536012</td>\n",
       "    </tr>\n",
       "    <tr>\n",
       "      <th>hanle_pblh_era5_avg</th>\n",
       "      <td>0.318136</td>\n",
       "      <td>0.261636</td>\n",
       "      <td>0.493250</td>\n",
       "      <td>1.000000</td>\n",
       "      <td>1.000000</td>\n",
       "      <td>0.967353</td>\n",
       "      <td>0.967353</td>\n",
       "    </tr>\n",
       "    <tr>\n",
       "      <th>merak_pblh_era5_avg</th>\n",
       "      <td>0.318136</td>\n",
       "      <td>0.261636</td>\n",
       "      <td>0.493250</td>\n",
       "      <td>1.000000</td>\n",
       "      <td>1.000000</td>\n",
       "      <td>0.967353</td>\n",
       "      <td>0.967353</td>\n",
       "    </tr>\n",
       "    <tr>\n",
       "      <th>hanle_pblh_era5_median</th>\n",
       "      <td>0.189882</td>\n",
       "      <td>0.278753</td>\n",
       "      <td>0.536012</td>\n",
       "      <td>0.967353</td>\n",
       "      <td>0.967353</td>\n",
       "      <td>1.000000</td>\n",
       "      <td>1.000000</td>\n",
       "    </tr>\n",
       "    <tr>\n",
       "      <th>merak_pblh_era5_median</th>\n",
       "      <td>0.189882</td>\n",
       "      <td>0.278753</td>\n",
       "      <td>0.536012</td>\n",
       "      <td>0.967353</td>\n",
       "      <td>0.967353</td>\n",
       "      <td>1.000000</td>\n",
       "      <td>1.000000</td>\n",
       "    </tr>\n",
       "  </tbody>\n",
       "</table>\n",
       "</div>"
      ],
      "text/plain": [
       "                             day        r0   std_dev  hanle_pblh_era5_avg  \\\n",
       "day                     1.000000 -0.048881 -0.204578             0.318136   \n",
       "r0                     -0.048881  1.000000  0.609746             0.261636   \n",
       "std_dev                -0.204578  0.609746  1.000000             0.493250   \n",
       "hanle_pblh_era5_avg     0.318136  0.261636  0.493250             1.000000   \n",
       "merak_pblh_era5_avg     0.318136  0.261636  0.493250             1.000000   \n",
       "hanle_pblh_era5_median  0.189882  0.278753  0.536012             0.967353   \n",
       "merak_pblh_era5_median  0.189882  0.278753  0.536012             0.967353   \n",
       "\n",
       "                        merak_pblh_era5_avg  hanle_pblh_era5_median  \\\n",
       "day                                0.318136                0.189882   \n",
       "r0                                 0.261636                0.278753   \n",
       "std_dev                            0.493250                0.536012   \n",
       "hanle_pblh_era5_avg                1.000000                0.967353   \n",
       "merak_pblh_era5_avg                1.000000                0.967353   \n",
       "hanle_pblh_era5_median             0.967353                1.000000   \n",
       "merak_pblh_era5_median             0.967353                1.000000   \n",
       "\n",
       "                        merak_pblh_era5_median  \n",
       "day                                   0.189882  \n",
       "r0                                    0.278753  \n",
       "std_dev                               0.536012  \n",
       "hanle_pblh_era5_avg                   0.967353  \n",
       "merak_pblh_era5_avg                   0.967353  \n",
       "hanle_pblh_era5_median                1.000000  \n",
       "merak_pblh_era5_median                1.000000  "
      ]
     },
     "execution_count": 64,
     "metadata": {},
     "output_type": "execute_result"
    }
   ],
   "source": [
    "merged_daily_merak_era5.corr()"
   ]
  },
  {
   "cell_type": "code",
   "execution_count": 65,
   "metadata": {},
   "outputs": [
    {
     "data": {
      "image/png": "[encoded data removed]",
      "text/plain": [
       "<Figure size 720x720 with 1 Axes>"
      ]
     },
     "metadata": {
      "needs_background": "light"
     },
     "output_type": "display_data"
    }
   ],
   "source": [
    "plt.figure(figsize=(10,10))\n",
    "plt.scatter(merged_daily_merak_era5['r0'],merged_daily_merak_era5['merak_pblh_era5_median'])\n",
    "plt.suptitle('era5 vs r0 daily merak')\n",
    "plt.ylabel('PBLH daytime med')\n",
    "plt.xlabel('r0 daytime med')\n",
    "plt.show()"
   ]
  },
  {
   "cell_type": "code",
   "execution_count": 113,
   "metadata": {},
   "outputs": [],
   "source": [
    "cloud_aqua = pd.read_csv('../Project Data/cf_aqua.txt',sep='\\s+',header=None)"
   ]
  },
  {
   "cell_type": "code",
   "execution_count": 114,
   "metadata": {},
   "outputs": [],
   "source": [
    "cloud_aqua.columns=['Year','days','hour','min','hanle_cf','merak_cf']"
   ]
  },
  {
   "cell_type": "code",
   "execution_count": 115,
   "metadata": {},
   "outputs": [],
   "source": [
    "datelist_aqua = []\n",
    "the_date = datetime(2018,1,1,0,0)\n",
    "id_tracker = 0\n",
    "for date_id in cloud_aqua['days'].values:\n",
    "    if(date_id < id_tracker):\n",
    "        the_date = datetime(the_date.year+1, 1,1)\n",
    "    current_date = the_date + timedelta(days = int(date_id)-1)\n",
    "    datelist_mer.append(current_date)\n",
    "    id_tracker = int(date_id)"
   ]
  },
  {
   "cell_type": "code",
   "execution_count": 116,
   "metadata": {},
   "outputs": [],
   "source": [
    "def date_generator(year,days,hours,mins):\n",
    "    the_date = datetime(year,1,1)\n",
    "    if(mins != 0):\n",
    "        the_date = the_date + timedelta(days=days-1,hours=hours,minutes=mins)\n",
    "    else:\n",
    "        the_date = the_date + timedelta(days=days-1,hours=hours)\n",
    "    return the_date"
   ]
  },
  {
   "cell_type": "code",
   "execution_count": 70,
   "metadata": {},
   "outputs": [],
   "source": [
    "# for i,the_row in cloud_aqua.iterrows():\n",
    "#     date_generator(int(the_row['Year']), int(the_row['days']), int(the_row['hour']),int(the_row['min']))"
   ]
  },
  {
   "cell_type": "code",
   "execution_count": 117,
   "metadata": {},
   "outputs": [],
   "source": [
    "cloud_aqua['datetime'] = cloud_aqua[['Year','days','hour','min']].apply(lambda x: date_generator(int(x[0]),int(x[1]),int(x[2]),int(x[3])),axis=1)"
   ]
  },
  {
   "cell_type": "code",
   "execution_count": 118,
   "metadata": {},
   "outputs": [],
   "source": [
    "def round_to_hour(dt):\n",
    "    dt_start_of_hour = dt.replace(minute=0)\n",
    "    dt_half_hour = dt.replace(minute=30)\n",
    "\n",
    "    if dt >= dt_half_hour:\n",
    "        # round up\n",
    "        dt = dt_start_of_hour + timedelta(hours=1)\n",
    "    else:\n",
    "        # round down\n",
    "        dt = dt_start_of_hour\n",
    "\n",
    "    return dt"
   ]
  },
  {
   "cell_type": "code",
   "execution_count": 119,
   "metadata": {},
   "outputs": [],
   "source": [
    "def round_to_half_hour(dt):\n",
    "    dt_half_hour = dt.replace(minute=30)\n",
    "    return dt_half_hour"
   ]
  },
  {
   "cell_type": "code",
   "execution_count": 120,
   "metadata": {},
   "outputs": [],
   "source": [
    "cloud_aqua['nearest hour'] = cloud_aqua['datetime'].apply(lambda x: round_to_hour(x))"
   ]
  },
  {
   "cell_type": "code",
   "execution_count": 121,
   "metadata": {},
   "outputs": [],
   "source": [
    "\n",
    "del cloud_aqua['days']\n",
    "del cloud_aqua['hour']\n",
    "del cloud_aqua['min']"
   ]
  },
  {
   "cell_type": "code",
   "execution_count": 123,
   "metadata": {},
   "outputs": [],
   "source": [
    "cloud_aqua['month'] = cloud_aqua['datetime'].apply(lambda x:x.month)"
   ]
  },
  {
   "cell_type": "code",
   "execution_count": 124,
   "metadata": {},
   "outputs": [],
   "source": [
    "cloud_aqua['nearest 30min'] = cloud_aqua['datetime'].apply(lambda x: round_to_half_hour(x))"
   ]
  },
  {
   "cell_type": "code",
   "execution_count": 125,
   "metadata": {},
   "outputs": [],
   "source": [
    "merra_full = pd.read_csv('../Output Data/merra_full.txt',sep='\\t')"
   ]
  },
  {
   "cell_type": "code",
   "execution_count": 126,
   "metadata": {},
   "outputs": [],
   "source": [
    "merra_full['datetime'] = merra_full[['date','time']].apply(lambda x:x[0]+' '+x[1],axis=1)"
   ]
  },
  {
   "cell_type": "code",
   "execution_count": 79,
   "metadata": {},
   "outputs": [],
   "source": [
    "era5_full_str =pd.read_csv('../Output Data/erai5_full.txt',sep='\\t') "
   ]
  },
  {
   "cell_type": "code",
   "execution_count": 80,
   "metadata": {},
   "outputs": [],
   "source": [
    "era5_full_str['datetime'] = era5_full_str[['date','time']].apply(lambda x:x[0]+' '+x[1],axis=1)"
   ]
  },
  {
   "cell_type": "code",
   "execution_count": 127,
   "metadata": {},
   "outputs": [],
   "source": [
    "merra_full['datetime'] = merra_full['datetime'].apply(lambda x: datetime.strptime(x,\"%Y-%m-%d %H:%M:%S\"))"
   ]
  },
  {
   "cell_type": "code",
   "execution_count": 82,
   "metadata": {},
   "outputs": [],
   "source": [
    "era5_full_str['datetime'] = era5_full_str['datetime'].apply(lambda x: datetime.strptime(x,\"%Y-%m-%d %H:%M:%S\"))"
   ]
  },
  {
   "cell_type": "code",
   "execution_count": 129,
   "metadata": {},
   "outputs": [],
   "source": [
    "\n",
    "del merra_full['date']\n",
    "del merra_full['time']`"
   ]
  },
  {
   "cell_type": "code",
   "execution_count": 138,
   "metadata": {},
   "outputs": [],
   "source": []
  },
  {
   "cell_type": "code",
   "execution_count": 132,
   "metadata": {},
   "outputs": [],
   "source": [
    "merge_cloud = pd.merge(cloud_aqua,merra_full,how='left',left_on=['nearest 30min'],right_on=['datetime'],suffixes=('_cf','_era5'))"
   ]
  },
  {
   "cell_type": "code",
   "execution_count": 85,
   "metadata": {},
   "outputs": [],
   "source": [
    "#merge_cloud = pd.merge(merge_cloud,merra_full,how='left',left_on=['nearest 30min'],right_on=['datetime'])"
   ]
  },
  {
   "cell_type": "code",
   "execution_count": 139,
   "metadata": {},
   "outputs": [],
   "source": [
    "merge_cloud_noneg = merge_cloud[merge_cloud['hanle_cf']>=0]"
   ]
  },
  {
   "cell_type": "code",
   "execution_count": 140,
   "metadata": {},
   "outputs": [],
   "source": [
    "merge_cloud_monthly = merge_cloud_noneg.groupby(['Year','month']).median()"
   ]
  },
  {
   "cell_type": "code",
   "execution_count": 141,
   "metadata": {},
   "outputs": [
    {
     "data": {
      "text/html": [
       "<div>\n",
       "<style scoped>\n",
       "    .dataframe tbody tr th:only-of-type {\n",
       "        vertical-align: middle;\n",
       "    }\n",
       "\n",
       "    .dataframe tbody tr th {\n",
       "        vertical-align: top;\n",
       "    }\n",
       "\n",
       "    .dataframe thead th {\n",
       "        text-align: right;\n",
       "    }\n",
       "</style>\n",
       "<table border=\"1\" class=\"dataframe\">\n",
       "  <thead>\n",
       "    <tr style=\"text-align: right;\">\n",
       "      <th></th>\n",
       "      <th>hanle_cf</th>\n",
       "      <th>merak_cf</th>\n",
       "      <th>han_pblh</th>\n",
       "      <th>mer_pblh</th>\n",
       "    </tr>\n",
       "  </thead>\n",
       "  <tbody>\n",
       "    <tr>\n",
       "      <th>hanle_cf</th>\n",
       "      <td>1.000000</td>\n",
       "      <td>0.370244</td>\n",
       "      <td>-0.270760</td>\n",
       "      <td>0.115645</td>\n",
       "    </tr>\n",
       "    <tr>\n",
       "      <th>merak_cf</th>\n",
       "      <td>0.370244</td>\n",
       "      <td>1.000000</td>\n",
       "      <td>-0.093337</td>\n",
       "      <td>-0.140399</td>\n",
       "    </tr>\n",
       "    <tr>\n",
       "      <th>han_pblh</th>\n",
       "      <td>-0.270760</td>\n",
       "      <td>-0.093337</td>\n",
       "      <td>1.000000</td>\n",
       "      <td>0.719311</td>\n",
       "    </tr>\n",
       "    <tr>\n",
       "      <th>mer_pblh</th>\n",
       "      <td>0.115645</td>\n",
       "      <td>-0.140399</td>\n",
       "      <td>0.719311</td>\n",
       "      <td>1.000000</td>\n",
       "    </tr>\n",
       "  </tbody>\n",
       "</table>\n",
       "</div>"
      ],
      "text/plain": [
       "          hanle_cf  merak_cf  han_pblh  mer_pblh\n",
       "hanle_cf  1.000000  0.370244 -0.270760  0.115645\n",
       "merak_cf  0.370244  1.000000 -0.093337 -0.140399\n",
       "han_pblh -0.270760 -0.093337  1.000000  0.719311\n",
       "mer_pblh  0.115645 -0.140399  0.719311  1.000000"
      ]
     },
     "execution_count": 141,
     "metadata": {},
     "output_type": "execute_result"
    }
   ],
   "source": [
    "merge_cloud_monthly.corr()"
   ]
  },
  {
   "cell_type": "code",
   "execution_count": 151,
   "metadata": {},
   "outputs": [],
   "source": [
    "cloud_terra = pd.read_csv('../Project Data/cf_terra.txt',sep='\\s+',header=None)"
   ]
  },
  {
   "cell_type": "code",
   "execution_count": 152,
   "metadata": {},
   "outputs": [],
   "source": [
    "cloud_terra.columns=['Year','days','hour','min','hanle_cf','merak_cf']"
   ]
  },
  {
   "cell_type": "code",
   "execution_count": 153,
   "metadata": {},
   "outputs": [],
   "source": [
    "cloud_terra['datetime'] = cloud_terra[['Year','days','hour','min']].apply(lambda x: date_generator(int(x[0]),int(x[1]),int(x[2]),int(x[3])),axis=1)"
   ]
  },
  {
   "cell_type": "code",
   "execution_count": 154,
   "metadata": {},
   "outputs": [],
   "source": [
    "\n",
    "del cloud_terra['days']\n",
    "del cloud_terra['hour']\n",
    "del cloud_terra['min']"
   ]
  },
  {
   "cell_type": "code",
   "execution_count": 155,
   "metadata": {},
   "outputs": [],
   "source": [
    "cloud_terra['month'] = cloud_terra['datetime'].apply(lambda x:x.month)"
   ]
  },
  {
   "cell_type": "code",
   "execution_count": null,
   "metadata": {},
   "outputs": [],
   "source": [
    "cloud_terra['nearest hour'] = cloud_terra['datetime'].apply(lambda x: round_to_hour(x))\n",
    "\n",
    "cloud_terra['nearest 30min'] = cloud_terra['datetime'].apply(lambda x: round_to_half_hour(x))"
   ]
  },
  {
   "cell_type": "code",
   "execution_count": 196,
   "metadata": {},
   "outputs": [
    {
     "data": {
      "text/plain": [
       "Index(['Year', 'hanle_cf', 'merak_cf', 'datetime', 'nearest hour', 'month',\n",
       "       'nearest 30min'],\n",
       "      dtype='object')"
      ]
     },
     "execution_count": 196,
     "metadata": {},
     "output_type": "execute_result"
    }
   ],
   "source": [
    "cloud_aqua.columns"
   ]
  },
  {
   "cell_type": "code",
   "execution_count": 197,
   "metadata": {},
   "outputs": [],
   "source": [
    "column_order = ['Year', 'hanle_cf', 'merak_cf', 'datetime', 'month', 'nearest 30min','nearest hour']"
   ]
  },
  {
   "cell_type": "code",
   "execution_count": 198,
   "metadata": {},
   "outputs": [],
   "source": [
    "cloud_merged = pd.concat([cloud_aqua[column_order],cloud_terra[column_order]],ignore_index=True)"
   ]
  },
  {
   "cell_type": "code",
   "execution_count": 199,
   "metadata": {},
   "outputs": [
    {
     "data": {
      "text/html": [
       "<div>\n",
       "<style scoped>\n",
       "    .dataframe tbody tr th:only-of-type {\n",
       "        vertical-align: middle;\n",
       "    }\n",
       "\n",
       "    .dataframe tbody tr th {\n",
       "        vertical-align: top;\n",
       "    }\n",
       "\n",
       "    .dataframe thead th {\n",
       "        text-align: right;\n",
       "    }\n",
       "</style>\n",
       "<table border=\"1\" class=\"dataframe\">\n",
       "  <thead>\n",
       "    <tr style=\"text-align: right;\">\n",
       "      <th></th>\n",
       "      <th>Year</th>\n",
       "      <th>hanle_cf</th>\n",
       "      <th>merak_cf</th>\n",
       "      <th>datetime</th>\n",
       "      <th>month</th>\n",
       "      <th>nearest 30min</th>\n",
       "      <th>nearest hour</th>\n",
       "    </tr>\n",
       "  </thead>\n",
       "  <tbody>\n",
       "    <tr>\n",
       "      <th>0</th>\n",
       "      <td>2018</td>\n",
       "      <td>100.0000</td>\n",
       "      <td>87.1905</td>\n",
       "      <td>2018-01-01 08:10:00</td>\n",
       "      <td>1</td>\n",
       "      <td>2018-01-01 08:30:00</td>\n",
       "      <td>2018-01-01 08:00:00</td>\n",
       "    </tr>\n",
       "    <tr>\n",
       "      <th>1</th>\n",
       "      <td>2018</td>\n",
       "      <td>47.0508</td>\n",
       "      <td>44.2222</td>\n",
       "      <td>2018-01-01 20:15:00</td>\n",
       "      <td>1</td>\n",
       "      <td>2018-01-01 20:30:00</td>\n",
       "      <td>2018-01-01 20:00:00</td>\n",
       "    </tr>\n",
       "    <tr>\n",
       "      <th>2</th>\n",
       "      <td>2018</td>\n",
       "      <td>-99.9000</td>\n",
       "      <td>-99.9000</td>\n",
       "      <td>2018-01-01 21:50:00</td>\n",
       "      <td>1</td>\n",
       "      <td>2018-01-01 21:30:00</td>\n",
       "      <td>2018-01-01 22:00:00</td>\n",
       "    </tr>\n",
       "    <tr>\n",
       "      <th>3</th>\n",
       "      <td>2018</td>\n",
       "      <td>35.6000</td>\n",
       "      <td>77.6250</td>\n",
       "      <td>2018-01-02 07:15:00</td>\n",
       "      <td>1</td>\n",
       "      <td>2018-01-02 07:30:00</td>\n",
       "      <td>2018-01-02 07:00:00</td>\n",
       "    </tr>\n",
       "    <tr>\n",
       "      <th>4</th>\n",
       "      <td>2018</td>\n",
       "      <td>13.9726</td>\n",
       "      <td>14.0000</td>\n",
       "      <td>2018-01-02 20:55:00</td>\n",
       "      <td>1</td>\n",
       "      <td>2018-01-02 20:30:00</td>\n",
       "      <td>2018-01-02 21:00:00</td>\n",
       "    </tr>\n",
       "    <tr>\n",
       "      <th>5</th>\n",
       "      <td>2018</td>\n",
       "      <td>34.5385</td>\n",
       "      <td>57.0485</td>\n",
       "      <td>2018-01-03 08:00:00</td>\n",
       "      <td>1</td>\n",
       "      <td>2018-01-03 08:30:00</td>\n",
       "      <td>2018-01-03 08:00:00</td>\n",
       "    </tr>\n",
       "    <tr>\n",
       "      <th>6</th>\n",
       "      <td>2018</td>\n",
       "      <td>22.9474</td>\n",
       "      <td>73.2941</td>\n",
       "      <td>2018-01-03 20:00:00</td>\n",
       "      <td>1</td>\n",
       "      <td>2018-01-03 20:30:00</td>\n",
       "      <td>2018-01-03 20:00:00</td>\n",
       "    </tr>\n",
       "    <tr>\n",
       "      <th>7</th>\n",
       "      <td>2018</td>\n",
       "      <td>-99.9000</td>\n",
       "      <td>-99.9000</td>\n",
       "      <td>2018-01-03 21:40:00</td>\n",
       "      <td>1</td>\n",
       "      <td>2018-01-03 21:30:00</td>\n",
       "      <td>2018-01-03 22:00:00</td>\n",
       "    </tr>\n",
       "    <tr>\n",
       "      <th>8</th>\n",
       "      <td>2018</td>\n",
       "      <td>-99.9000</td>\n",
       "      <td>-99.9000</td>\n",
       "      <td>2018-01-04 07:05:00</td>\n",
       "      <td>1</td>\n",
       "      <td>2018-01-04 07:30:00</td>\n",
       "      <td>2018-01-04 07:00:00</td>\n",
       "    </tr>\n",
       "    <tr>\n",
       "      <th>9</th>\n",
       "      <td>2018</td>\n",
       "      <td>88.8750</td>\n",
       "      <td>95.3333</td>\n",
       "      <td>2018-01-04 08:40:00</td>\n",
       "      <td>1</td>\n",
       "      <td>2018-01-04 08:30:00</td>\n",
       "      <td>2018-01-04 09:00:00</td>\n",
       "    </tr>\n",
       "  </tbody>\n",
       "</table>\n",
       "</div>"
      ],
      "text/plain": [
       "   Year  hanle_cf  merak_cf            datetime  month       nearest 30min  \\\n",
       "0  2018  100.0000   87.1905 2018-01-01 08:10:00      1 2018-01-01 08:30:00   \n",
       "1  2018   47.0508   44.2222 2018-01-01 20:15:00      1 2018-01-01 20:30:00   \n",
       "2  2018  -99.9000  -99.9000 2018-01-01 21:50:00      1 2018-01-01 21:30:00   \n",
       "3  2018   35.6000   77.6250 2018-01-02 07:15:00      1 2018-01-02 07:30:00   \n",
       "4  2018   13.9726   14.0000 2018-01-02 20:55:00      1 2018-01-02 20:30:00   \n",
       "5  2018   34.5385   57.0485 2018-01-03 08:00:00      1 2018-01-03 08:30:00   \n",
       "6  2018   22.9474   73.2941 2018-01-03 20:00:00      1 2018-01-03 20:30:00   \n",
       "7  2018  -99.9000  -99.9000 2018-01-03 21:40:00      1 2018-01-03 21:30:00   \n",
       "8  2018  -99.9000  -99.9000 2018-01-04 07:05:00      1 2018-01-04 07:30:00   \n",
       "9  2018   88.8750   95.3333 2018-01-04 08:40:00      1 2018-01-04 08:30:00   \n",
       "\n",
       "         nearest hour  \n",
       "0 2018-01-01 08:00:00  \n",
       "1 2018-01-01 20:00:00  \n",
       "2 2018-01-01 22:00:00  \n",
       "3 2018-01-02 07:00:00  \n",
       "4 2018-01-02 21:00:00  \n",
       "5 2018-01-03 08:00:00  \n",
       "6 2018-01-03 20:00:00  \n",
       "7 2018-01-03 22:00:00  \n",
       "8 2018-01-04 07:00:00  \n",
       "9 2018-01-04 09:00:00  "
      ]
     },
     "execution_count": 199,
     "metadata": {},
     "output_type": "execute_result"
    }
   ],
   "source": [
    "cloud_merged.head(10)"
   ]
  },
  {
   "cell_type": "code",
   "execution_count": 200,
   "metadata": {},
   "outputs": [],
   "source": [
    "cloud_merged = cloud_merged.sort_values(['datetime'])\n",
    "cloud_merged.reset_index(drop=True,inplace=True)"
   ]
  },
  {
   "cell_type": "code",
   "execution_count": 194,
   "metadata": {},
   "outputs": [
    {
     "data": {
      "text/html": [
       "<div>\n",
       "<style scoped>\n",
       "    .dataframe tbody tr th:only-of-type {\n",
       "        vertical-align: middle;\n",
       "    }\n",
       "\n",
       "    .dataframe tbody tr th {\n",
       "        vertical-align: top;\n",
       "    }\n",
       "\n",
       "    .dataframe thead th {\n",
       "        text-align: right;\n",
       "    }\n",
       "</style>\n",
       "<table border=\"1\" class=\"dataframe\">\n",
       "  <thead>\n",
       "    <tr style=\"text-align: right;\">\n",
       "      <th></th>\n",
       "      <th>Year</th>\n",
       "      <th>hanle_cf</th>\n",
       "      <th>merak_cf</th>\n",
       "      <th>datetime</th>\n",
       "      <th>month</th>\n",
       "      <th>nearest 30min</th>\n",
       "      <th>nearest hour</th>\n",
       "    </tr>\n",
       "  </thead>\n",
       "  <tbody>\n",
       "    <tr>\n",
       "      <th>0</th>\n",
       "      <td>2018</td>\n",
       "      <td>97.7143</td>\n",
       "      <td>99.8857</td>\n",
       "      <td>2018-01-01 04:55:00</td>\n",
       "      <td>1</td>\n",
       "      <td>2018-01-01 04:30:00</td>\n",
       "      <td>2018-01-01 05:00:00</td>\n",
       "    </tr>\n",
       "    <tr>\n",
       "      <th>1</th>\n",
       "      <td>2018</td>\n",
       "      <td>-99.9000</td>\n",
       "      <td>-99.9000</td>\n",
       "      <td>2018-01-01 06:35:00</td>\n",
       "      <td>1</td>\n",
       "      <td>2018-01-01 06:30:00</td>\n",
       "      <td>2018-01-01 07:00:00</td>\n",
       "    </tr>\n",
       "    <tr>\n",
       "      <th>2</th>\n",
       "      <td>2018</td>\n",
       "      <td>100.0000</td>\n",
       "      <td>87.1905</td>\n",
       "      <td>2018-01-01 08:10:00</td>\n",
       "      <td>1</td>\n",
       "      <td>2018-01-01 08:30:00</td>\n",
       "      <td>2018-01-01 08:00:00</td>\n",
       "    </tr>\n",
       "    <tr>\n",
       "      <th>3</th>\n",
       "      <td>2018</td>\n",
       "      <td>-99.9000</td>\n",
       "      <td>-99.9000</td>\n",
       "      <td>2018-01-01 16:00:00</td>\n",
       "      <td>1</td>\n",
       "      <td>2018-01-01 16:30:00</td>\n",
       "      <td>2018-01-01 16:00:00</td>\n",
       "    </tr>\n",
       "    <tr>\n",
       "      <th>4</th>\n",
       "      <td>2018</td>\n",
       "      <td>53.3913</td>\n",
       "      <td>76.5000</td>\n",
       "      <td>2018-01-01 17:35:00</td>\n",
       "      <td>1</td>\n",
       "      <td>2018-01-01 17:30:00</td>\n",
       "      <td>2018-01-01 18:00:00</td>\n",
       "    </tr>\n",
       "    <tr>\n",
       "      <th>5</th>\n",
       "      <td>2018</td>\n",
       "      <td>47.0508</td>\n",
       "      <td>44.2222</td>\n",
       "      <td>2018-01-01 20:15:00</td>\n",
       "      <td>1</td>\n",
       "      <td>2018-01-01 20:30:00</td>\n",
       "      <td>2018-01-01 20:00:00</td>\n",
       "    </tr>\n",
       "    <tr>\n",
       "      <th>6</th>\n",
       "      <td>2018</td>\n",
       "      <td>-99.9000</td>\n",
       "      <td>-99.9000</td>\n",
       "      <td>2018-01-01 21:50:00</td>\n",
       "      <td>1</td>\n",
       "      <td>2018-01-01 21:30:00</td>\n",
       "      <td>2018-01-01 22:00:00</td>\n",
       "    </tr>\n",
       "    <tr>\n",
       "      <th>7</th>\n",
       "      <td>2018</td>\n",
       "      <td>23.5340</td>\n",
       "      <td>56.5825</td>\n",
       "      <td>2018-01-02 05:40:00</td>\n",
       "      <td>1</td>\n",
       "      <td>2018-01-02 05:30:00</td>\n",
       "      <td>2018-01-02 06:00:00</td>\n",
       "    </tr>\n",
       "    <tr>\n",
       "      <th>8</th>\n",
       "      <td>2018</td>\n",
       "      <td>35.6000</td>\n",
       "      <td>77.6250</td>\n",
       "      <td>2018-01-02 07:15:00</td>\n",
       "      <td>1</td>\n",
       "      <td>2018-01-02 07:30:00</td>\n",
       "      <td>2018-01-02 07:00:00</td>\n",
       "    </tr>\n",
       "    <tr>\n",
       "      <th>9</th>\n",
       "      <td>2018</td>\n",
       "      <td>24.5909</td>\n",
       "      <td>21.8222</td>\n",
       "      <td>2018-01-02 16:40:00</td>\n",
       "      <td>1</td>\n",
       "      <td>2018-01-02 16:30:00</td>\n",
       "      <td>2018-01-02 17:00:00</td>\n",
       "    </tr>\n",
       "  </tbody>\n",
       "</table>\n",
       "</div>"
      ],
      "text/plain": [
       "   Year  hanle_cf  merak_cf            datetime  month       nearest 30min  \\\n",
       "0  2018   97.7143   99.8857 2018-01-01 04:55:00      1 2018-01-01 04:30:00   \n",
       "1  2018  -99.9000  -99.9000 2018-01-01 06:35:00      1 2018-01-01 06:30:00   \n",
       "2  2018  100.0000   87.1905 2018-01-01 08:10:00      1 2018-01-01 08:30:00   \n",
       "3  2018  -99.9000  -99.9000 2018-01-01 16:00:00      1 2018-01-01 16:30:00   \n",
       "4  2018   53.3913   76.5000 2018-01-01 17:35:00      1 2018-01-01 17:30:00   \n",
       "5  2018   47.0508   44.2222 2018-01-01 20:15:00      1 2018-01-01 20:30:00   \n",
       "6  2018  -99.9000  -99.9000 2018-01-01 21:50:00      1 2018-01-01 21:30:00   \n",
       "7  2018   23.5340   56.5825 2018-01-02 05:40:00      1 2018-01-02 05:30:00   \n",
       "8  2018   35.6000   77.6250 2018-01-02 07:15:00      1 2018-01-02 07:30:00   \n",
       "9  2018   24.5909   21.8222 2018-01-02 16:40:00      1 2018-01-02 16:30:00   \n",
       "\n",
       "         nearest hour  \n",
       "0 2018-01-01 05:00:00  \n",
       "1 2018-01-01 07:00:00  \n",
       "2 2018-01-01 08:00:00  \n",
       "3 2018-01-01 16:00:00  \n",
       "4 2018-01-01 18:00:00  \n",
       "5 2018-01-01 20:00:00  \n",
       "6 2018-01-01 22:00:00  \n",
       "7 2018-01-02 06:00:00  \n",
       "8 2018-01-02 07:00:00  \n",
       "9 2018-01-02 17:00:00  "
      ]
     },
     "execution_count": 194,
     "metadata": {},
     "output_type": "execute_result"
    }
   ],
   "source": [
    "cloud_merged.head(10)"
   ]
  },
  {
   "cell_type": "code",
   "execution_count": 185,
   "metadata": {},
   "outputs": [],
   "source": []
  },
  {
   "cell_type": "code",
   "execution_count": 93,
   "metadata": {},
   "outputs": [],
   "source": [
    "#merge_cloud_terra = pd.merge(cloud_terra,era5_full_str,how='left',left_on=['nearest hour'],right_on=['datetime'],suffixes=('_cf','_era5'))"
   ]
  },
  {
   "cell_type": "code",
   "execution_count": 201,
   "metadata": {},
   "outputs": [],
   "source": [
    "merge_cloud_terra = pd.merge(cloud_merged,merra_full,how='left',left_on=['nearest 30min'],right_on=['datetime'])"
   ]
  },
  {
   "cell_type": "code",
   "execution_count": 207,
   "metadata": {},
   "outputs": [],
   "source": [
    "merge_cloud_terra = merge_cloud_terra[(merge_cloud_terra['hanle_cf'] >=0) | (merge_cloud_terra['merak_cf']>=0)]"
   ]
  },
  {
   "cell_type": "code",
   "execution_count": 208,
   "metadata": {},
   "outputs": [],
   "source": [
    "merge_cloud_terra_monthly = merge_cloud_terra.groupby(['Year','month']).median()"
   ]
  },
  {
   "cell_type": "code",
   "execution_count": 209,
   "metadata": {},
   "outputs": [
    {
     "data": {
      "text/html": [
       "<div>\n",
       "<style scoped>\n",
       "    .dataframe tbody tr th:only-of-type {\n",
       "        vertical-align: middle;\n",
       "    }\n",
       "\n",
       "    .dataframe tbody tr th {\n",
       "        vertical-align: top;\n",
       "    }\n",
       "\n",
       "    .dataframe thead th {\n",
       "        text-align: right;\n",
       "    }\n",
       "</style>\n",
       "<table border=\"1\" class=\"dataframe\">\n",
       "  <thead>\n",
       "    <tr style=\"text-align: right;\">\n",
       "      <th></th>\n",
       "      <th>hanle_cf</th>\n",
       "      <th>merak_cf</th>\n",
       "      <th>han_pblh</th>\n",
       "      <th>mer_pblh</th>\n",
       "    </tr>\n",
       "  </thead>\n",
       "  <tbody>\n",
       "    <tr>\n",
       "      <th>hanle_cf</th>\n",
       "      <td>1.000000</td>\n",
       "      <td>0.213436</td>\n",
       "      <td>0.145859</td>\n",
       "      <td>0.157323</td>\n",
       "    </tr>\n",
       "    <tr>\n",
       "      <th>merak_cf</th>\n",
       "      <td>0.213436</td>\n",
       "      <td>1.000000</td>\n",
       "      <td>-0.378606</td>\n",
       "      <td>-0.517238</td>\n",
       "    </tr>\n",
       "    <tr>\n",
       "      <th>han_pblh</th>\n",
       "      <td>0.145859</td>\n",
       "      <td>-0.378606</td>\n",
       "      <td>1.000000</td>\n",
       "      <td>0.848454</td>\n",
       "    </tr>\n",
       "    <tr>\n",
       "      <th>mer_pblh</th>\n",
       "      <td>0.157323</td>\n",
       "      <td>-0.517238</td>\n",
       "      <td>0.848454</td>\n",
       "      <td>1.000000</td>\n",
       "    </tr>\n",
       "  </tbody>\n",
       "</table>\n",
       "</div>"
      ],
      "text/plain": [
       "          hanle_cf  merak_cf  han_pblh  mer_pblh\n",
       "hanle_cf  1.000000  0.213436  0.145859  0.157323\n",
       "merak_cf  0.213436  1.000000 -0.378606 -0.517238\n",
       "han_pblh  0.145859 -0.378606  1.000000  0.848454\n",
       "mer_pblh  0.157323 -0.517238  0.848454  1.000000"
      ]
     },
     "execution_count": 209,
     "metadata": {},
     "output_type": "execute_result"
    }
   ],
   "source": [
    "merge_cloud_terra_monthly.corr()"
   ]
  },
  {
   "cell_type": "code",
   "execution_count": 217,
   "metadata": {},
   "outputs": [],
   "source": [
    "fit = np.polyfit(merge_cloud_terra_monthly['merak_cf'],merge_cloud_terra_monthly['mer_pblh'],1)\n",
    "fit_fn = np.poly1d(fit) \n",
    "# fit_fn is now a function which takes in x and returns an estimate for y\n",
    "\n",
    "plt.plot(merge_cloud_terra_monthly['merak_cf'], fit_fn(merge_cloud_terra_monthly['merak_cf']), '--k')"
   ]
  },
  {
   "cell_type": "code",
   "execution_count": 219,
   "metadata": {},
   "outputs": [
    {
     "data": {
      "image/png": "[encoded data removed]",
      "text/plain": [
       "<Figure size 720x720 with 1 Axes>"
      ]
     },
     "metadata": {
      "needs_background": "light"
     },
     "output_type": "display_data"
    }
   ],
   "source": [
    "plt.figure(figsize=(10,10))\n",
    "plt.scatter(merge_cloud_terra_monthly['merak_cf'],merge_cloud_terra_monthly['mer_pblh'])\n",
    "plt.plot(merge_cloud_terra_monthly['merak_cf'], fit_fn(merge_cloud_terra_monthly['merak_cf']), '--k')\n",
    "plt.suptitle('merra vs cloud monthly merak')\n",
    "plt.ylabel('PBLH merra monthly')\n",
    "plt.xlabel('cloud cover monthly')\n",
    "\n",
    "plt.show()"
   ]
  },
  {
   "cell_type": "code",
   "execution_count": 97,
   "metadata": {},
   "outputs": [
    {
     "data": {
      "text/html": [
       "<div>\n",
       "<style scoped>\n",
       "    .dataframe tbody tr th:only-of-type {\n",
       "        vertical-align: middle;\n",
       "    }\n",
       "\n",
       "    .dataframe tbody tr th {\n",
       "        vertical-align: top;\n",
       "    }\n",
       "\n",
       "    .dataframe thead th {\n",
       "        text-align: right;\n",
       "    }\n",
       "</style>\n",
       "<table border=\"1\" class=\"dataframe\">\n",
       "  <thead>\n",
       "    <tr style=\"text-align: right;\">\n",
       "      <th></th>\n",
       "      <th>hanle_cf</th>\n",
       "      <th>merak_cf</th>\n",
       "      <th>hanle_pblh_era5</th>\n",
       "      <th>merak_pblh_era5</th>\n",
       "      <th>han_pblh</th>\n",
       "      <th>mer_pblh</th>\n",
       "    </tr>\n",
       "  </thead>\n",
       "  <tbody>\n",
       "    <tr>\n",
       "      <th>hanle_cf</th>\n",
       "      <td>1.000000</td>\n",
       "      <td>0.393040</td>\n",
       "      <td>0.139818</td>\n",
       "      <td>0.139818</td>\n",
       "      <td>0.106554</td>\n",
       "      <td>0.114693</td>\n",
       "    </tr>\n",
       "    <tr>\n",
       "      <th>merak_cf</th>\n",
       "      <td>0.393040</td>\n",
       "      <td>1.000000</td>\n",
       "      <td>0.140496</td>\n",
       "      <td>0.140496</td>\n",
       "      <td>0.189341</td>\n",
       "      <td>0.192627</td>\n",
       "    </tr>\n",
       "    <tr>\n",
       "      <th>hanle_pblh_era5</th>\n",
       "      <td>0.139818</td>\n",
       "      <td>0.140496</td>\n",
       "      <td>1.000000</td>\n",
       "      <td>1.000000</td>\n",
       "      <td>0.776179</td>\n",
       "      <td>0.777076</td>\n",
       "    </tr>\n",
       "    <tr>\n",
       "      <th>merak_pblh_era5</th>\n",
       "      <td>0.139818</td>\n",
       "      <td>0.140496</td>\n",
       "      <td>1.000000</td>\n",
       "      <td>1.000000</td>\n",
       "      <td>0.776179</td>\n",
       "      <td>0.777076</td>\n",
       "    </tr>\n",
       "    <tr>\n",
       "      <th>han_pblh</th>\n",
       "      <td>0.106554</td>\n",
       "      <td>0.189341</td>\n",
       "      <td>0.776179</td>\n",
       "      <td>0.776179</td>\n",
       "      <td>1.000000</td>\n",
       "      <td>0.943238</td>\n",
       "    </tr>\n",
       "    <tr>\n",
       "      <th>mer_pblh</th>\n",
       "      <td>0.114693</td>\n",
       "      <td>0.192627</td>\n",
       "      <td>0.777076</td>\n",
       "      <td>0.777076</td>\n",
       "      <td>0.943238</td>\n",
       "      <td>1.000000</td>\n",
       "    </tr>\n",
       "  </tbody>\n",
       "</table>\n",
       "</div>"
      ],
      "text/plain": [
       "                 hanle_cf  merak_cf  hanle_pblh_era5  merak_pblh_era5  \\\n",
       "hanle_cf         1.000000  0.393040         0.139818         0.139818   \n",
       "merak_cf         0.393040  1.000000         0.140496         0.140496   \n",
       "hanle_pblh_era5  0.139818  0.140496         1.000000         1.000000   \n",
       "merak_pblh_era5  0.139818  0.140496         1.000000         1.000000   \n",
       "han_pblh         0.106554  0.189341         0.776179         0.776179   \n",
       "mer_pblh         0.114693  0.192627         0.777076         0.777076   \n",
       "\n",
       "                 han_pblh  mer_pblh  \n",
       "hanle_cf         0.106554  0.114693  \n",
       "merak_cf         0.189341  0.192627  \n",
       "hanle_pblh_era5  0.776179  0.777076  \n",
       "merak_pblh_era5  0.776179  0.777076  \n",
       "han_pblh         1.000000  0.943238  \n",
       "mer_pblh         0.943238  1.000000  "
      ]
     },
     "execution_count": 97,
     "metadata": {},
     "output_type": "execute_result"
    }
   ],
   "source": [
    "merge_cloud_noneg.corr()"
   ]
  },
  {
   "cell_type": "code",
   "execution_count": 211,
   "metadata": {},
   "outputs": [],
   "source": [
    "plt.scatter?"
   ]
  },
  {
   "cell_type": "code",
   "execution_count": null,
   "metadata": {},
   "outputs": [],
   "source": []
  }
 ],
 "metadata": {
  "kernelspec": {
   "display_name": "IIA",
   "language": "python",
   "name": "iia"
  },
  "language_info": {
   "codemirror_mode": {
    "name": "ipython",
    "version": 3
   },
   "file_extension": ".py",
   "mimetype": "text/x-python",
   "name": "python",
   "nbconvert_exporter": "python",
   "pygments_lexer": "ipython3",
   "version": "3.7.3"
  }
 },
 "nbformat": 4,
 "nbformat_minor": 2
}
