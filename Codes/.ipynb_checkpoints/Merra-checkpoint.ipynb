{
 "cells": [
  {
   "cell_type": "code",
   "execution_count": 2,
   "metadata": {},
   "outputs": [],
   "source": [
    "import numpy as np\n",
    "import pandas as pd\n",
    "import netCDF4\n",
    "from netCDF4 import Dataset\n",
    "from netCDF4 import MFDataset\n",
    "import datetime\n",
    "from pathlib import Path\n",
    "import xarray as xr"
   ]
  },
  {
   "cell_type": "code",
   "execution_count": 4,
   "metadata": {},
   "outputs": [],
   "source": [
    "merra = xr.open_mfdataset('D:/Codes/IIA Project/Project Data/1.MERRA-2/*SUB.nc')"
   ]
  },
  {
   "cell_type": "code",
   "execution_count": 5,
   "metadata": {},
   "outputs": [],
   "source": [
    "merra = merra.to_dataframe()"
   ]
  },
  {
   "cell_type": "code",
   "execution_count": 8,
   "metadata": {},
   "outputs": [],
   "source": [
    "# Do merra.reset_index() to make lat, long and time as columns of the dataframe and change multiindex to single imndex"
   ]
  },
  {
   "cell_type": "code",
   "execution_count": 6,
   "metadata": {},
   "outputs": [],
   "source": [
    "merra = merra.reset_index()"
   ]
  },
  {
   "cell_type": "code",
   "execution_count": 7,
   "metadata": {},
   "outputs": [
    {
     "data": {
      "text/html": [
       "<div>\n",
       "<style scoped>\n",
       "    .dataframe tbody tr th:only-of-type {\n",
       "        vertical-align: middle;\n",
       "    }\n",
       "\n",
       "    .dataframe tbody tr th {\n",
       "        vertical-align: top;\n",
       "    }\n",
       "\n",
       "    .dataframe thead th {\n",
       "        text-align: right;\n",
       "    }\n",
       "</style>\n",
       "<table border=\"1\" class=\"dataframe\">\n",
       "  <thead>\n",
       "    <tr style=\"text-align: right;\">\n",
       "      <th></th>\n",
       "      <th>lat</th>\n",
       "      <th>lon</th>\n",
       "      <th>time</th>\n",
       "      <th>PBLH</th>\n",
       "    </tr>\n",
       "  </thead>\n",
       "  <tbody>\n",
       "    <tr>\n",
       "      <th>0</th>\n",
       "      <td>32.5</td>\n",
       "      <td>78.125</td>\n",
       "      <td>1980-01-01 00:30:00</td>\n",
       "      <td>632.503418</td>\n",
       "    </tr>\n",
       "    <tr>\n",
       "      <th>1</th>\n",
       "      <td>32.5</td>\n",
       "      <td>78.125</td>\n",
       "      <td>1980-01-01 01:30:00</td>\n",
       "      <td>1109.745239</td>\n",
       "    </tr>\n",
       "    <tr>\n",
       "      <th>2</th>\n",
       "      <td>32.5</td>\n",
       "      <td>78.125</td>\n",
       "      <td>1980-01-01 02:30:00</td>\n",
       "      <td>2237.738281</td>\n",
       "    </tr>\n",
       "    <tr>\n",
       "      <th>3</th>\n",
       "      <td>32.5</td>\n",
       "      <td>78.125</td>\n",
       "      <td>1980-01-01 03:30:00</td>\n",
       "      <td>2224.764893</td>\n",
       "    </tr>\n",
       "    <tr>\n",
       "      <th>4</th>\n",
       "      <td>32.5</td>\n",
       "      <td>78.125</td>\n",
       "      <td>1980-01-01 04:30:00</td>\n",
       "      <td>2078.818359</td>\n",
       "    </tr>\n",
       "  </tbody>\n",
       "</table>\n",
       "</div>"
      ],
      "text/plain": [
       "    lat     lon                time         PBLH\n",
       "0  32.5  78.125 1980-01-01 00:30:00   632.503418\n",
       "1  32.5  78.125 1980-01-01 01:30:00  1109.745239\n",
       "2  32.5  78.125 1980-01-01 02:30:00  2237.738281\n",
       "3  32.5  78.125 1980-01-01 03:30:00  2224.764893\n",
       "4  32.5  78.125 1980-01-01 04:30:00  2078.818359"
      ]
     },
     "execution_count": 7,
     "metadata": {},
     "output_type": "execute_result"
    }
   ],
   "source": [
    "merra.head(5)"
   ]
  },
  {
   "cell_type": "code",
   "execution_count": 45,
   "metadata": {},
   "outputs": [],
   "source": [
    "#merra['han'] = ((merra.PBLH[(merra['lat'] == 32.75) & (merra['lon'] == 78.75)])*0.0625) + ((merra.PBLH[(merra['lat'] == 32.75) & (merra['lon'] == 79.0625)]*0.25))/(0.0625+0.25)"
   ]
  },
  {
   "cell_type": "code",
   "execution_count": 1,
   "metadata": {},
   "outputs": [
    {
     "ename": "NameError",
     "evalue": "name 'merra' is not defined",
     "output_type": "error",
     "traceback": [
      "\u001b[1;31m---------------------------------------------------------------------------\u001b[0m",
      "\u001b[1;31mNameError\u001b[0m                                 Traceback (most recent call last)",
      "\u001b[1;32m<ipython-input-1-d7768f2d9432>\u001b[0m in \u001b[0;36m<module>\u001b[1;34m\u001b[0m\n\u001b[1;32m----> 1\u001b[1;33m \u001b[0mtype\u001b[0m\u001b[1;33m(\u001b[0m\u001b[0mmerra\u001b[0m\u001b[1;33m.\u001b[0m\u001b[0mpblh\u001b[0m\u001b[1;33m)\u001b[0m\u001b[1;33m\u001b[0m\u001b[1;33m\u001b[0m\u001b[0m\n\u001b[0m",
      "\u001b[1;31mNameError\u001b[0m: name 'merra' is not defined"
     ]
    }
   ],
   "source": [
    "type(merra.pblh)"
   ]
  },
  {
   "cell_type": "code",
   "execution_count": 8,
   "metadata": {},
   "outputs": [],
   "source": [
    "han_1 = ((merra.PBLH[(merra['lat'] == 32.75) & (merra['lon'] == 78.75)])*0.0625).values\n",
    "han_2 = ((merra.PBLH[(merra['lat'] == 32.75) & (merra['lon'] == 79.0625)]*0.25)).values\n",
    "division_factor_for_interpolation = 0.0625 + 0.25"
   ]
  },
  {
   "cell_type": "code",
   "execution_count": 9,
   "metadata": {},
   "outputs": [],
   "source": [
    "mer_1 = ((merra.PBLH[(merra['lat'] == 33.75) & (merra['lon'] == 78.4375)])*0.25).values\n",
    "mer_2 = ((merra.PBLH[(merra['lat'] == 33.75) & (merra['lon'] == 78.75)]*0.0625)).values\n",
    "division_factor_for_interpolation = 0.0625 + 0.25"
   ]
  },
  {
   "cell_type": "code",
   "execution_count": 10,
   "metadata": {},
   "outputs": [],
   "source": [
    "interpolated_han_79_E = np.add(han_1, han_2)/division_factor_for_interpolation\n",
    "interpolated_mer_78_dot_5_E = np.add(mer_1, mer_2)/division_factor_for_interpolation"
   ]
  },
  {
   "cell_type": "code",
   "execution_count": 12,
   "metadata": {},
   "outputs": [],
   "source": [
    "time = merra['time'].unique()\n",
    "#unique attribute gives unique items from pd series in the same order\n"
   ]
  },
  {
   "cell_type": "code",
   "execution_count": 13,
   "metadata": {},
   "outputs": [],
   "source": [
    "final = pd.DataFrame(columns=['time','han_pblh_mts','mer_pblh_mts'],index = range(0,time.shape[0]))"
   ]
  },
  {
   "cell_type": "raw",
   "metadata": {},
   "source": []
  },
  {
   "cell_type": "code",
   "execution_count": 14,
   "metadata": {},
   "outputs": [],
   "source": [
    "final['time'] = time\n",
    "final['han_pblh_mts'] = interpolated_han_79_E\n",
    "final['mer_pblh_mts'] = interpolated_mer_78_dot_5_E"
   ]
  },
  {
   "cell_type": "code",
   "execution_count": 15,
   "metadata": {},
   "outputs": [
    {
     "data": {
      "text/html": [
       "<div>\n",
       "<style scoped>\n",
       "    .dataframe tbody tr th:only-of-type {\n",
       "        vertical-align: middle;\n",
       "    }\n",
       "\n",
       "    .dataframe tbody tr th {\n",
       "        vertical-align: top;\n",
       "    }\n",
       "\n",
       "    .dataframe thead th {\n",
       "        text-align: right;\n",
       "    }\n",
       "</style>\n",
       "<table border=\"1\" class=\"dataframe\">\n",
       "  <thead>\n",
       "    <tr style=\"text-align: right;\">\n",
       "      <th></th>\n",
       "      <th>time</th>\n",
       "      <th>han_pblh_mts</th>\n",
       "      <th>mer_pblh_mts</th>\n",
       "    </tr>\n",
       "  </thead>\n",
       "  <tbody>\n",
       "    <tr>\n",
       "      <th>0</th>\n",
       "      <td>1980-01-01 00:30:00</td>\n",
       "      <td>1036.853394</td>\n",
       "      <td>1014.353394</td>\n",
       "    </tr>\n",
       "    <tr>\n",
       "      <th>1</th>\n",
       "      <td>1980-01-01 01:30:00</td>\n",
       "      <td>693.095337</td>\n",
       "      <td>980.920227</td>\n",
       "    </tr>\n",
       "    <tr>\n",
       "      <th>2</th>\n",
       "      <td>1980-01-01 02:30:00</td>\n",
       "      <td>1593.738159</td>\n",
       "      <td>1376.788208</td>\n",
       "    </tr>\n",
       "    <tr>\n",
       "      <th>3</th>\n",
       "      <td>1980-01-01 03:30:00</td>\n",
       "      <td>2704.864746</td>\n",
       "      <td>2071.464844</td>\n",
       "    </tr>\n",
       "    <tr>\n",
       "      <th>4</th>\n",
       "      <td>1980-01-01 04:30:00</td>\n",
       "      <td>2684.118408</td>\n",
       "      <td>2506.818359</td>\n",
       "    </tr>\n",
       "    <tr>\n",
       "      <th>5</th>\n",
       "      <td>1980-01-01 05:30:00</td>\n",
       "      <td>2541.587158</td>\n",
       "      <td>2717.687012</td>\n",
       "    </tr>\n",
       "    <tr>\n",
       "      <th>6</th>\n",
       "      <td>1980-01-01 06:30:00</td>\n",
       "      <td>2603.247314</td>\n",
       "      <td>2804.347168</td>\n",
       "    </tr>\n",
       "    <tr>\n",
       "      <th>7</th>\n",
       "      <td>1980-01-01 07:30:00</td>\n",
       "      <td>2771.693848</td>\n",
       "      <td>2825.493896</td>\n",
       "    </tr>\n",
       "    <tr>\n",
       "      <th>8</th>\n",
       "      <td>1980-01-01 08:30:00</td>\n",
       "      <td>2576.037598</td>\n",
       "      <td>2767.937500</td>\n",
       "    </tr>\n",
       "    <tr>\n",
       "      <th>9</th>\n",
       "      <td>1980-01-01 09:30:00</td>\n",
       "      <td>2440.382324</td>\n",
       "      <td>2309.582275</td>\n",
       "    </tr>\n",
       "  </tbody>\n",
       "</table>\n",
       "</div>"
      ],
      "text/plain": [
       "                 time  han_pblh_mts  mer_pblh_mts\n",
       "0 1980-01-01 00:30:00   1036.853394   1014.353394\n",
       "1 1980-01-01 01:30:00    693.095337    980.920227\n",
       "2 1980-01-01 02:30:00   1593.738159   1376.788208\n",
       "3 1980-01-01 03:30:00   2704.864746   2071.464844\n",
       "4 1980-01-01 04:30:00   2684.118408   2506.818359\n",
       "5 1980-01-01 05:30:00   2541.587158   2717.687012\n",
       "6 1980-01-01 06:30:00   2603.247314   2804.347168\n",
       "7 1980-01-01 07:30:00   2771.693848   2825.493896\n",
       "8 1980-01-01 08:30:00   2576.037598   2767.937500\n",
       "9 1980-01-01 09:30:00   2440.382324   2309.582275"
      ]
     },
     "execution_count": 15,
     "metadata": {},
     "output_type": "execute_result"
    }
   ],
   "source": [
    "final.head(10)"
   ]
  },
  {
   "cell_type": "code",
   "execution_count": 16,
   "metadata": {},
   "outputs": [],
   "source": [
    "final.to_csv('merra_final.csv',index = False)"
   ]
  },
  {
   "cell_type": "code",
   "execution_count": null,
   "metadata": {},
   "outputs": [],
   "source": []
  }
 ],
 "metadata": {
  "kernelspec": {
   "display_name": "IIA",
   "language": "python",
   "name": "iia"
  },
  "language_info": {
   "codemirror_mode": {
    "name": "ipython",
    "version": 3
   },
   "file_extension": ".py",
   "mimetype": "text/x-python",
   "name": "python",
   "nbconvert_exporter": "python",
   "pygments_lexer": "ipython3",
   "version": "3.7.3"
  }
 },
 "nbformat": 4,
 "nbformat_minor": 2
}
